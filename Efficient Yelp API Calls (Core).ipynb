{
 "cells": [
  {
   "cell_type": "markdown",
   "id": "5cef9a41",
   "metadata": {},
   "source": [
    "## Efficient Yelp API Calls (Core)\n",
    "For this assignment, you will be working with the Yelp API.\n",
    "\n",
    "As before, you will use the Yelp API to search your favorite city for a cuisine type of your choice.\n",
    "\n",
    "Extract all of the results from your search and compile them into one dataframe using a for loop as shown in the lesson \"Code for Efficient API Extraction\"\n",
    "\n",
    "Save your notebook, commit the change to your repository and submit the repository URL for this assignment."
   ]
  },
  {
   "cell_type": "code",
   "execution_count": 1,
   "id": "7de376b1",
   "metadata": {},
   "outputs": [],
   "source": [
    "# Standard Imports\n",
    "import numpy as np\n",
    "import pandas as pd\n",
    "import matplotlib.pyplot as plt\n",
    "import seaborn as sns\n",
    "# Additional Imports\n",
    "import os, json, math, time\n",
    "from yelpapi import YelpAPI\n",
    "from tqdm.notebook import tqdm_notebook"
   ]
  },
  {
   "cell_type": "markdown",
   "id": "f2ee6dab",
   "metadata": {},
   "source": [
    "### Load Credentials and Create Yelp API Object"
   ]
  },
  {
   "cell_type": "code",
   "execution_count": 2,
   "id": "00a39b75",
   "metadata": {},
   "outputs": [
    {
     "data": {
      "text/plain": [
       "dict_keys(['client-id', 'api-key'])"
      ]
     },
     "execution_count": 2,
     "metadata": {},
     "output_type": "execute_result"
    }
   ],
   "source": [
    "# Load API Credentials\n",
    "with open(r\"C:\\Users\\bandi\\.secret\\yelp_api.json\") as f:\n",
    "    login = json.load(f)\n",
    "login.keys()"
   ]
  },
  {
   "cell_type": "code",
   "execution_count": 3,
   "id": "0c9536c1",
   "metadata": {},
   "outputs": [
    {
     "data": {
      "text/plain": [
       "<yelpapi.yelpapi.YelpAPI at 0x1d3b2d48a50>"
      ]
     },
     "execution_count": 3,
     "metadata": {},
     "output_type": "execute_result"
    }
   ],
   "source": [
    "# Instantiate YelpAPI Variable\n",
    "yelp_api = YelpAPI(login['api-key'], timeout_s = 5.0)\n",
    "yelp_api"
   ]
  },
  {
   "cell_type": "markdown",
   "id": "21b8c86c",
   "metadata": {},
   "source": [
    "### Define Search and File Paths"
   ]
  },
  {
   "cell_type": "code",
   "execution_count": 18,
   "id": "a69bde0a",
   "metadata": {},
   "outputs": [],
   "source": [
    "# set our API call parameters \n",
    "LOCATION = 'Greenville, SC'\n",
    "TERM = 'Sushi'"
   ]
  },
  {
   "cell_type": "code",
   "execution_count": 19,
   "id": "a9767097",
   "metadata": {},
   "outputs": [
    {
     "data": {
      "text/plain": [
       "'Data/results_SC_sushi.json'"
      ]
     },
     "execution_count": 19,
     "metadata": {},
     "output_type": "execute_result"
    }
   ],
   "source": [
    "# Name the file to save results\n",
    "JSON_FILE = \"Data/results_SC_sushi.json\"\n",
    "JSON_FILE"
   ]
  },
  {
   "cell_type": "markdown",
   "id": "aed99b28",
   "metadata": {},
   "source": [
    "### Check if Json File exists and Create it if it doesn't"
   ]
  },
  {
   "cell_type": "code",
   "execution_count": 20,
   "id": "a11d98e1",
   "metadata": {},
   "outputs": [
    {
     "name": "stdout",
     "output_type": "stream",
     "text": [
      "[i] Data/results_SC_sushi.json not found. Saving empty list to file.\n"
     ]
    }
   ],
   "source": [
    "## Check if JSON_FILE exists\n",
    "file_exists = os.path.isfile(JSON_FILE)\n",
    "\n",
    "## If it does not exist: \n",
    "if file_exists == False:\n",
    "    \n",
    "    ## CREATE ANY NEEDED FOLDERS\n",
    "    # Get the Folder Name only\n",
    "    folder = os.path.dirname(JSON_FILE)\n",
    "    \n",
    "    ## If JSON_FILE included a folder:\n",
    "    if len(folder)>0:\n",
    "        # create the folder\n",
    "        os.makedirs(folder,exist_ok=True)\n",
    "        \n",
    "        \n",
    "    ## INFORM USER AND SAVE EMPTY LIST\n",
    "    print(f'[i] {JSON_FILE} not found. Saving empty list to file.')\n",
    "    \n",
    "    \n",
    "    # save an empty list\n",
    "    with open(JSON_FILE,'w') as f:\n",
    "        json.dump([],f) \n",
    "        \n",
    "# If it exists, inform user\n",
    "else:\n",
    "    print(f\"[i] {JSON_FILE} already exists.\")"
   ]
  },
  {
   "cell_type": "markdown",
   "id": "3eebddde",
   "metadata": {},
   "source": [
    "### Load JSON FIle and account for previous results"
   ]
  },
  {
   "cell_type": "code",
   "execution_count": 21,
   "id": "fd6a9c6a",
   "metadata": {},
   "outputs": [
    {
     "name": "stdout",
     "output_type": "stream",
     "text": [
      "- 0 previous results found.\n"
     ]
    }
   ],
   "source": [
    "## Load previous results and use len of results for offset\n",
    "with open(JSON_FILE,'r') as f:\n",
    "    previous_results = json.load(f)\n",
    "    \n",
    "## set offset based on previous results\n",
    "n_results = len(previous_results)\n",
    "print(f'- {n_results} previous results found.')"
   ]
  },
  {
   "attachments": {},
   "cell_type": "markdown",
   "id": "ce2a0021",
   "metadata": {},
   "source": [
    "### Figure out how many pages of results we will need"
   ]
  },
  {
   "cell_type": "code",
   "execution_count": 22,
   "id": "8431b3e0",
   "metadata": {},
   "outputs": [
    {
     "ename": "HTTPError",
     "evalue": "429 Client Error: Too Many Requests for url: https://api.yelp.com/v3/businesses/search?location=Greenville%2C+SC&term=Sushi&offset=0",
     "output_type": "error",
     "traceback": [
      "\u001b[1;31m---------------------------------------------------------------------------\u001b[0m",
      "\u001b[1;31mHTTPError\u001b[0m                                 Traceback (most recent call last)",
      "Cell \u001b[1;32mIn[22], line 2\u001b[0m\n\u001b[0;32m      1\u001b[0m \u001b[38;5;66;03m# use our yelp_api variable's search_query method to perform our API call\u001b[39;00m\n\u001b[1;32m----> 2\u001b[0m results \u001b[38;5;241m=\u001b[39m yelp_api\u001b[38;5;241m.\u001b[39msearch_query(location\u001b[38;5;241m=\u001b[39mLOCATION,\n\u001b[0;32m      3\u001b[0m                                 term\u001b[38;5;241m=\u001b[39mTERM,\n\u001b[0;32m      4\u001b[0m                                offset\u001b[38;5;241m=\u001b[39mn_results)\n\u001b[0;32m      5\u001b[0m results\u001b[38;5;241m.\u001b[39mkeys()\n",
      "File \u001b[1;32m~\\anaconda3\\Lib\\site-packages\\yelpapi\\yelpapi.py:251\u001b[0m, in \u001b[0;36mYelpAPI.search_query\u001b[1;34m(self, **kwargs)\u001b[0m\n\u001b[0;32m    247\u001b[0m \u001b[38;5;28;01mif\u001b[39;00m \u001b[38;5;129;01mnot\u001b[39;00m kwargs\u001b[38;5;241m.\u001b[39mget(\u001b[38;5;124m'\u001b[39m\u001b[38;5;124mlocation\u001b[39m\u001b[38;5;124m'\u001b[39m) \u001b[38;5;129;01mand\u001b[39;00m (\u001b[38;5;129;01mnot\u001b[39;00m kwargs\u001b[38;5;241m.\u001b[39mget(\u001b[38;5;124m'\u001b[39m\u001b[38;5;124mlatitude\u001b[39m\u001b[38;5;124m'\u001b[39m) \u001b[38;5;129;01mor\u001b[39;00m \u001b[38;5;129;01mnot\u001b[39;00m kwargs\u001b[38;5;241m.\u001b[39mget(\u001b[38;5;124m'\u001b[39m\u001b[38;5;124mlongitude\u001b[39m\u001b[38;5;124m'\u001b[39m)):\n\u001b[0;32m    248\u001b[0m     \u001b[38;5;28;01mraise\u001b[39;00m \u001b[38;5;167;01mValueError\u001b[39;00m(\u001b[38;5;124m'\u001b[39m\u001b[38;5;124mA valid location (parameter \u001b[39m\u001b[38;5;124m\"\u001b[39m\u001b[38;5;124mlocation\u001b[39m\u001b[38;5;124m\"\u001b[39m\u001b[38;5;124m) or latitude/longitude combination \u001b[39m\u001b[38;5;124m'\u001b[39m\n\u001b[0;32m    249\u001b[0m                      \u001b[38;5;124m'\u001b[39m\u001b[38;5;124m(parameters \u001b[39m\u001b[38;5;124m\"\u001b[39m\u001b[38;5;124mlatitude\u001b[39m\u001b[38;5;124m\"\u001b[39m\u001b[38;5;124m and \u001b[39m\u001b[38;5;124m\"\u001b[39m\u001b[38;5;124mlongitude\u001b[39m\u001b[38;5;124m\"\u001b[39m\u001b[38;5;124m) must be provided.\u001b[39m\u001b[38;5;124m'\u001b[39m)\n\u001b[1;32m--> 251\u001b[0m \u001b[38;5;28;01mreturn\u001b[39;00m \u001b[38;5;28mself\u001b[39m\u001b[38;5;241m.\u001b[39m_query(SEARCH_API_URL, \u001b[38;5;241m*\u001b[39m\u001b[38;5;241m*\u001b[39mkwargs)\n",
      "File \u001b[1;32m~\\anaconda3\\Lib\\site-packages\\yelpapi\\yelpapi.py:293\u001b[0m, in \u001b[0;36mYelpAPI._query\u001b[1;34m(self, url, **kwargs)\u001b[0m\n\u001b[0;32m    286\u001b[0m parameters \u001b[38;5;241m=\u001b[39m YelpAPI\u001b[38;5;241m.\u001b[39m_get_clean_parameters(kwargs)\n\u001b[0;32m    287\u001b[0m response \u001b[38;5;241m=\u001b[39m \u001b[38;5;28mself\u001b[39m\u001b[38;5;241m.\u001b[39m_yelp_session\u001b[38;5;241m.\u001b[39mget(\n\u001b[0;32m    288\u001b[0m     url,\n\u001b[0;32m    289\u001b[0m     headers\u001b[38;5;241m=\u001b[39m\u001b[38;5;28mself\u001b[39m\u001b[38;5;241m.\u001b[39m_headers,\n\u001b[0;32m    290\u001b[0m     params\u001b[38;5;241m=\u001b[39mparameters,\n\u001b[0;32m    291\u001b[0m     timeout\u001b[38;5;241m=\u001b[39m\u001b[38;5;28mself\u001b[39m\u001b[38;5;241m.\u001b[39m_timeout_s,\n\u001b[0;32m    292\u001b[0m )\n\u001b[1;32m--> 293\u001b[0m response\u001b[38;5;241m.\u001b[39mraise_for_status()  \u001b[38;5;66;03m# will raise error if error status code received: https://requests.readthedocs.io/en/latest/api/#requests.Response.raise_for_status\u001b[39;00m\n\u001b[0;32m    295\u001b[0m response_json \u001b[38;5;241m=\u001b[39m response\u001b[38;5;241m.\u001b[39mjson()  \u001b[38;5;66;03m# shouldn't happen, but this will raise a ValueError if the response isn't JSON\u001b[39;00m\n\u001b[0;32m    297\u001b[0m \u001b[38;5;66;03m# Yelp can return one of many different API errors, so check for one of them.\u001b[39;00m\n\u001b[0;32m    298\u001b[0m \u001b[38;5;66;03m# The Yelp Fusion API does not yet have a complete list of errors, but this is on the TODO list; see\u001b[39;00m\n\u001b[0;32m    299\u001b[0m \u001b[38;5;66;03m# https://github.com/Yelp/yelp-fusion/issues/95 for more info.\u001b[39;00m\n",
      "File \u001b[1;32m~\\anaconda3\\Lib\\site-packages\\requests\\models.py:1021\u001b[0m, in \u001b[0;36mResponse.raise_for_status\u001b[1;34m(self)\u001b[0m\n\u001b[0;32m   1016\u001b[0m     http_error_msg \u001b[38;5;241m=\u001b[39m (\n\u001b[0;32m   1017\u001b[0m         \u001b[38;5;124mf\u001b[39m\u001b[38;5;124m\"\u001b[39m\u001b[38;5;132;01m{\u001b[39;00m\u001b[38;5;28mself\u001b[39m\u001b[38;5;241m.\u001b[39mstatus_code\u001b[38;5;132;01m}\u001b[39;00m\u001b[38;5;124m Server Error: \u001b[39m\u001b[38;5;132;01m{\u001b[39;00mreason\u001b[38;5;132;01m}\u001b[39;00m\u001b[38;5;124m for url: \u001b[39m\u001b[38;5;132;01m{\u001b[39;00m\u001b[38;5;28mself\u001b[39m\u001b[38;5;241m.\u001b[39murl\u001b[38;5;132;01m}\u001b[39;00m\u001b[38;5;124m\"\u001b[39m\n\u001b[0;32m   1018\u001b[0m     )\n\u001b[0;32m   1020\u001b[0m \u001b[38;5;28;01mif\u001b[39;00m http_error_msg:\n\u001b[1;32m-> 1021\u001b[0m     \u001b[38;5;28;01mraise\u001b[39;00m HTTPError(http_error_msg, response\u001b[38;5;241m=\u001b[39m\u001b[38;5;28mself\u001b[39m)\n",
      "\u001b[1;31mHTTPError\u001b[0m: 429 Client Error: Too Many Requests for url: https://api.yelp.com/v3/businesses/search?location=Greenville%2C+SC&term=Sushi&offset=0"
     ]
    }
   ],
   "source": [
    "# use our yelp_api variable's search_query method to perform our API call\n",
    "results = yelp_api.search_query(location=LOCATION,\n",
    "                                term=TERM,\n",
    "                               offset=n_results)\n",
    "results.keys()"
   ]
  },
  {
   "cell_type": "code",
   "execution_count": 9,
   "id": "e6f71a78",
   "metadata": {},
   "outputs": [
    {
     "data": {
      "text/plain": [
       "14700"
      ]
     },
     "execution_count": 9,
     "metadata": {},
     "output_type": "execute_result"
    }
   ],
   "source": [
    "## How many results total?\n",
    "total_results = results['total']\n",
    "total_results"
   ]
  },
  {
   "cell_type": "code",
   "execution_count": 10,
   "id": "0ad429ef",
   "metadata": {},
   "outputs": [
    {
     "data": {
      "text/plain": [
       "20"
      ]
     },
     "execution_count": 10,
     "metadata": {},
     "output_type": "execute_result"
    }
   ],
   "source": [
    "## How many did we get the details for?\n",
    "results_per_page = len(results['businesses'])\n",
    "results_per_page"
   ]
  },
  {
   "cell_type": "code",
   "execution_count": 15,
   "id": "8aaef57a",
   "metadata": {},
   "outputs": [
    {
     "data": {
      "text/plain": [
       "735"
      ]
     },
     "execution_count": 15,
     "metadata": {},
     "output_type": "execute_result"
    }
   ],
   "source": [
    "# Use math.ceil to round up for the total number of pages of results.\n",
    "n_pages = math.ceil((total_results - n_results) / results_per_page)\n",
    "n_pages"
   ]
  },
  {
   "attachments": {},
   "cell_type": "markdown",
   "id": "dcb95a36",
   "metadata": {},
   "source": [
    "### Add this page of results to .json file"
   ]
  },
  {
   "cell_type": "code",
   "execution_count": 16,
   "id": "f933d50b",
   "metadata": {},
   "outputs": [],
   "source": [
    "# join new results with old list with extend and save to file\n",
    "previous_results.extend(results['businesses'])  \n",
    "with open(JSON_FILE,'w') as f:\n",
    "     json.dump(previous_results,f,indent = 4)"
   ]
  },
  {
   "cell_type": "markdown",
   "id": "d36a8ea0",
   "metadata": {},
   "source": [
    "### For Loop to call each page"
   ]
  },
  {
   "cell_type": "code",
   "execution_count": 17,
   "id": "6155696c",
   "metadata": {},
   "outputs": [
    {
     "data": {
      "application/vnd.jupyter.widget-view+json": {
       "model_id": "069818a0eced407bae4af0e2db0a1fa2",
       "version_major": 2,
       "version_minor": 0
      },
      "text/plain": [
       "  0%|          | 0/735 [00:00<?, ?it/s]"
      ]
     },
     "metadata": {},
     "output_type": "display_data"
    },
    {
     "name": "stdout",
     "output_type": "stream",
     "text": [
      "an error occured 400 Client Error: Bad Request for url: https://api.yelp.com/v3/businesses/search?location=New+York%2C+NY&term=Burger&offset=1000\n",
      "an error occured 400 Client Error: Bad Request for url: https://api.yelp.com/v3/businesses/search?location=New+York%2C+NY&term=Burger&offset=1000\n",
      "an error occured 400 Client Error: Bad Request for url: https://api.yelp.com/v3/businesses/search?location=New+York%2C+NY&term=Burger&offset=1000\n",
      "an error occured 400 Client Error: Bad Request for url: https://api.yelp.com/v3/businesses/search?location=New+York%2C+NY&term=Burger&offset=1000\n",
      "an error occured 400 Client Error: Bad Request for url: https://api.yelp.com/v3/businesses/search?location=New+York%2C+NY&term=Burger&offset=1000\n",
      "an error occured 400 Client Error: Bad Request for url: https://api.yelp.com/v3/businesses/search?location=New+York%2C+NY&term=Burger&offset=1000\n",
      "an error occured 400 Client Error: Bad Request for url: https://api.yelp.com/v3/businesses/search?location=New+York%2C+NY&term=Burger&offset=1000\n",
      "an error occured 400 Client Error: Bad Request for url: https://api.yelp.com/v3/businesses/search?location=New+York%2C+NY&term=Burger&offset=1000\n",
      "an error occured 400 Client Error: Bad Request for url: https://api.yelp.com/v3/businesses/search?location=New+York%2C+NY&term=Burger&offset=1000\n",
      "an error occured 400 Client Error: Bad Request for url: https://api.yelp.com/v3/businesses/search?location=New+York%2C+NY&term=Burger&offset=1000\n",
      "an error occured 400 Client Error: Bad Request for url: https://api.yelp.com/v3/businesses/search?location=New+York%2C+NY&term=Burger&offset=1000\n",
      "an error occured 400 Client Error: Bad Request for url: https://api.yelp.com/v3/businesses/search?location=New+York%2C+NY&term=Burger&offset=1000\n",
      "an error occured 400 Client Error: Bad Request for url: https://api.yelp.com/v3/businesses/search?location=New+York%2C+NY&term=Burger&offset=1000\n",
      "an error occured 400 Client Error: Bad Request for url: https://api.yelp.com/v3/businesses/search?location=New+York%2C+NY&term=Burger&offset=1000\n",
      "an error occured 400 Client Error: Bad Request for url: https://api.yelp.com/v3/businesses/search?location=New+York%2C+NY&term=Burger&offset=1000\n",
      "an error occured 400 Client Error: Bad Request for url: https://api.yelp.com/v3/businesses/search?location=New+York%2C+NY&term=Burger&offset=1000\n",
      "an error occured 400 Client Error: Bad Request for url: https://api.yelp.com/v3/businesses/search?location=New+York%2C+NY&term=Burger&offset=1000\n",
      "an error occured 400 Client Error: Bad Request for url: https://api.yelp.com/v3/businesses/search?location=New+York%2C+NY&term=Burger&offset=1000\n",
      "an error occured 400 Client Error: Bad Request for url: https://api.yelp.com/v3/businesses/search?location=New+York%2C+NY&term=Burger&offset=1000\n",
      "an error occured 400 Client Error: Bad Request for url: https://api.yelp.com/v3/businesses/search?location=New+York%2C+NY&term=Burger&offset=1000\n",
      "an error occured 400 Client Error: Bad Request for url: https://api.yelp.com/v3/businesses/search?location=New+York%2C+NY&term=Burger&offset=1000\n",
      "an error occured 400 Client Error: Bad Request for url: https://api.yelp.com/v3/businesses/search?location=New+York%2C+NY&term=Burger&offset=1000\n",
      "an error occured 400 Client Error: Bad Request for url: https://api.yelp.com/v3/businesses/search?location=New+York%2C+NY&term=Burger&offset=1000\n",
      "an error occured 400 Client Error: Bad Request for url: https://api.yelp.com/v3/businesses/search?location=New+York%2C+NY&term=Burger&offset=1000\n",
      "an error occured 400 Client Error: Bad Request for url: https://api.yelp.com/v3/businesses/search?location=New+York%2C+NY&term=Burger&offset=1000\n",
      "an error occured 400 Client Error: Bad Request for url: https://api.yelp.com/v3/businesses/search?location=New+York%2C+NY&term=Burger&offset=1000\n",
      "an error occured 400 Client Error: Bad Request for url: https://api.yelp.com/v3/businesses/search?location=New+York%2C+NY&term=Burger&offset=1000\n",
      "an error occured 400 Client Error: Bad Request for url: https://api.yelp.com/v3/businesses/search?location=New+York%2C+NY&term=Burger&offset=1000\n",
      "an error occured 400 Client Error: Bad Request for url: https://api.yelp.com/v3/businesses/search?location=New+York%2C+NY&term=Burger&offset=1000\n",
      "an error occured 400 Client Error: Bad Request for url: https://api.yelp.com/v3/businesses/search?location=New+York%2C+NY&term=Burger&offset=1000\n",
      "an error occured 400 Client Error: Bad Request for url: https://api.yelp.com/v3/businesses/search?location=New+York%2C+NY&term=Burger&offset=1000\n",
      "an error occured 400 Client Error: Bad Request for url: https://api.yelp.com/v3/businesses/search?location=New+York%2C+NY&term=Burger&offset=1000\n",
      "an error occured 400 Client Error: Bad Request for url: https://api.yelp.com/v3/businesses/search?location=New+York%2C+NY&term=Burger&offset=1000\n",
      "an error occured 400 Client Error: Bad Request for url: https://api.yelp.com/v3/businesses/search?location=New+York%2C+NY&term=Burger&offset=1000\n",
      "an error occured 400 Client Error: Bad Request for url: https://api.yelp.com/v3/businesses/search?location=New+York%2C+NY&term=Burger&offset=1000\n",
      "an error occured 400 Client Error: Bad Request for url: https://api.yelp.com/v3/businesses/search?location=New+York%2C+NY&term=Burger&offset=1000\n",
      "an error occured 400 Client Error: Bad Request for url: https://api.yelp.com/v3/businesses/search?location=New+York%2C+NY&term=Burger&offset=1000\n",
      "an error occured 400 Client Error: Bad Request for url: https://api.yelp.com/v3/businesses/search?location=New+York%2C+NY&term=Burger&offset=1000\n",
      "an error occured 400 Client Error: Bad Request for url: https://api.yelp.com/v3/businesses/search?location=New+York%2C+NY&term=Burger&offset=1000\n",
      "an error occured 400 Client Error: Bad Request for url: https://api.yelp.com/v3/businesses/search?location=New+York%2C+NY&term=Burger&offset=1000\n",
      "an error occured 400 Client Error: Bad Request for url: https://api.yelp.com/v3/businesses/search?location=New+York%2C+NY&term=Burger&offset=1000\n",
      "an error occured 400 Client Error: Bad Request for url: https://api.yelp.com/v3/businesses/search?location=New+York%2C+NY&term=Burger&offset=1000\n",
      "an error occured 400 Client Error: Bad Request for url: https://api.yelp.com/v3/businesses/search?location=New+York%2C+NY&term=Burger&offset=1000\n",
      "an error occured 400 Client Error: Bad Request for url: https://api.yelp.com/v3/businesses/search?location=New+York%2C+NY&term=Burger&offset=1000\n",
      "an error occured 400 Client Error: Bad Request for url: https://api.yelp.com/v3/businesses/search?location=New+York%2C+NY&term=Burger&offset=1000\n",
      "an error occured 400 Client Error: Bad Request for url: https://api.yelp.com/v3/businesses/search?location=New+York%2C+NY&term=Burger&offset=1000\n",
      "an error occured 400 Client Error: Bad Request for url: https://api.yelp.com/v3/businesses/search?location=New+York%2C+NY&term=Burger&offset=1000\n",
      "an error occured 400 Client Error: Bad Request for url: https://api.yelp.com/v3/businesses/search?location=New+York%2C+NY&term=Burger&offset=1000\n",
      "an error occured 400 Client Error: Bad Request for url: https://api.yelp.com/v3/businesses/search?location=New+York%2C+NY&term=Burger&offset=1000\n",
      "an error occured 400 Client Error: Bad Request for url: https://api.yelp.com/v3/businesses/search?location=New+York%2C+NY&term=Burger&offset=1000\n",
      "an error occured 400 Client Error: Bad Request for url: https://api.yelp.com/v3/businesses/search?location=New+York%2C+NY&term=Burger&offset=1000\n",
      "an error occured 400 Client Error: Bad Request for url: https://api.yelp.com/v3/businesses/search?location=New+York%2C+NY&term=Burger&offset=1000\n",
      "an error occured 400 Client Error: Bad Request for url: https://api.yelp.com/v3/businesses/search?location=New+York%2C+NY&term=Burger&offset=1000\n",
      "an error occured 400 Client Error: Bad Request for url: https://api.yelp.com/v3/businesses/search?location=New+York%2C+NY&term=Burger&offset=1000\n",
      "an error occured 400 Client Error: Bad Request for url: https://api.yelp.com/v3/businesses/search?location=New+York%2C+NY&term=Burger&offset=1000\n",
      "an error occured 400 Client Error: Bad Request for url: https://api.yelp.com/v3/businesses/search?location=New+York%2C+NY&term=Burger&offset=1000\n",
      "an error occured 400 Client Error: Bad Request for url: https://api.yelp.com/v3/businesses/search?location=New+York%2C+NY&term=Burger&offset=1000\n"
     ]
    },
    {
     "name": "stdout",
     "output_type": "stream",
     "text": [
      "an error occured 400 Client Error: Bad Request for url: https://api.yelp.com/v3/businesses/search?location=New+York%2C+NY&term=Burger&offset=1000\n",
      "an error occured 400 Client Error: Bad Request for url: https://api.yelp.com/v3/businesses/search?location=New+York%2C+NY&term=Burger&offset=1000\n",
      "an error occured 400 Client Error: Bad Request for url: https://api.yelp.com/v3/businesses/search?location=New+York%2C+NY&term=Burger&offset=1000\n",
      "an error occured 400 Client Error: Bad Request for url: https://api.yelp.com/v3/businesses/search?location=New+York%2C+NY&term=Burger&offset=1000\n",
      "an error occured 400 Client Error: Bad Request for url: https://api.yelp.com/v3/businesses/search?location=New+York%2C+NY&term=Burger&offset=1000\n",
      "an error occured 400 Client Error: Bad Request for url: https://api.yelp.com/v3/businesses/search?location=New+York%2C+NY&term=Burger&offset=1000\n",
      "an error occured 400 Client Error: Bad Request for url: https://api.yelp.com/v3/businesses/search?location=New+York%2C+NY&term=Burger&offset=1000\n",
      "an error occured 400 Client Error: Bad Request for url: https://api.yelp.com/v3/businesses/search?location=New+York%2C+NY&term=Burger&offset=1000\n",
      "an error occured 400 Client Error: Bad Request for url: https://api.yelp.com/v3/businesses/search?location=New+York%2C+NY&term=Burger&offset=1000\n",
      "an error occured 400 Client Error: Bad Request for url: https://api.yelp.com/v3/businesses/search?location=New+York%2C+NY&term=Burger&offset=1000\n",
      "an error occured 400 Client Error: Bad Request for url: https://api.yelp.com/v3/businesses/search?location=New+York%2C+NY&term=Burger&offset=1000\n",
      "an error occured 400 Client Error: Bad Request for url: https://api.yelp.com/v3/businesses/search?location=New+York%2C+NY&term=Burger&offset=1000\n",
      "an error occured 400 Client Error: Bad Request for url: https://api.yelp.com/v3/businesses/search?location=New+York%2C+NY&term=Burger&offset=1000\n",
      "an error occured 400 Client Error: Bad Request for url: https://api.yelp.com/v3/businesses/search?location=New+York%2C+NY&term=Burger&offset=1000\n",
      "an error occured 400 Client Error: Bad Request for url: https://api.yelp.com/v3/businesses/search?location=New+York%2C+NY&term=Burger&offset=1000\n",
      "an error occured 400 Client Error: Bad Request for url: https://api.yelp.com/v3/businesses/search?location=New+York%2C+NY&term=Burger&offset=1000\n",
      "an error occured 400 Client Error: Bad Request for url: https://api.yelp.com/v3/businesses/search?location=New+York%2C+NY&term=Burger&offset=1000\n",
      "an error occured 400 Client Error: Bad Request for url: https://api.yelp.com/v3/businesses/search?location=New+York%2C+NY&term=Burger&offset=1000\n",
      "an error occured 400 Client Error: Bad Request for url: https://api.yelp.com/v3/businesses/search?location=New+York%2C+NY&term=Burger&offset=1000\n",
      "an error occured 400 Client Error: Bad Request for url: https://api.yelp.com/v3/businesses/search?location=New+York%2C+NY&term=Burger&offset=1000\n",
      "an error occured 400 Client Error: Bad Request for url: https://api.yelp.com/v3/businesses/search?location=New+York%2C+NY&term=Burger&offset=1000\n",
      "an error occured 400 Client Error: Bad Request for url: https://api.yelp.com/v3/businesses/search?location=New+York%2C+NY&term=Burger&offset=1000\n",
      "an error occured 400 Client Error: Bad Request for url: https://api.yelp.com/v3/businesses/search?location=New+York%2C+NY&term=Burger&offset=1000\n",
      "an error occured 400 Client Error: Bad Request for url: https://api.yelp.com/v3/businesses/search?location=New+York%2C+NY&term=Burger&offset=1000\n",
      "an error occured 400 Client Error: Bad Request for url: https://api.yelp.com/v3/businesses/search?location=New+York%2C+NY&term=Burger&offset=1000\n",
      "an error occured 400 Client Error: Bad Request for url: https://api.yelp.com/v3/businesses/search?location=New+York%2C+NY&term=Burger&offset=1000\n",
      "an error occured 400 Client Error: Bad Request for url: https://api.yelp.com/v3/businesses/search?location=New+York%2C+NY&term=Burger&offset=1000\n",
      "an error occured 400 Client Error: Bad Request for url: https://api.yelp.com/v3/businesses/search?location=New+York%2C+NY&term=Burger&offset=1000\n",
      "an error occured 400 Client Error: Bad Request for url: https://api.yelp.com/v3/businesses/search?location=New+York%2C+NY&term=Burger&offset=1000\n",
      "an error occured 400 Client Error: Bad Request for url: https://api.yelp.com/v3/businesses/search?location=New+York%2C+NY&term=Burger&offset=1000\n",
      "an error occured 400 Client Error: Bad Request for url: https://api.yelp.com/v3/businesses/search?location=New+York%2C+NY&term=Burger&offset=1000\n",
      "an error occured 400 Client Error: Bad Request for url: https://api.yelp.com/v3/businesses/search?location=New+York%2C+NY&term=Burger&offset=1000\n",
      "an error occured 400 Client Error: Bad Request for url: https://api.yelp.com/v3/businesses/search?location=New+York%2C+NY&term=Burger&offset=1000\n",
      "an error occured 400 Client Error: Bad Request for url: https://api.yelp.com/v3/businesses/search?location=New+York%2C+NY&term=Burger&offset=1000\n",
      "an error occured 400 Client Error: Bad Request for url: https://api.yelp.com/v3/businesses/search?location=New+York%2C+NY&term=Burger&offset=1000\n",
      "an error occured 400 Client Error: Bad Request for url: https://api.yelp.com/v3/businesses/search?location=New+York%2C+NY&term=Burger&offset=1000\n",
      "an error occured 400 Client Error: Bad Request for url: https://api.yelp.com/v3/businesses/search?location=New+York%2C+NY&term=Burger&offset=1000\n",
      "an error occured 400 Client Error: Bad Request for url: https://api.yelp.com/v3/businesses/search?location=New+York%2C+NY&term=Burger&offset=1000\n",
      "an error occured 400 Client Error: Bad Request for url: https://api.yelp.com/v3/businesses/search?location=New+York%2C+NY&term=Burger&offset=1000\n",
      "an error occured 400 Client Error: Bad Request for url: https://api.yelp.com/v3/businesses/search?location=New+York%2C+NY&term=Burger&offset=1000\n",
      "an error occured 400 Client Error: Bad Request for url: https://api.yelp.com/v3/businesses/search?location=New+York%2C+NY&term=Burger&offset=1000\n",
      "an error occured 400 Client Error: Bad Request for url: https://api.yelp.com/v3/businesses/search?location=New+York%2C+NY&term=Burger&offset=1000\n",
      "an error occured 400 Client Error: Bad Request for url: https://api.yelp.com/v3/businesses/search?location=New+York%2C+NY&term=Burger&offset=1000\n",
      "an error occured 400 Client Error: Bad Request for url: https://api.yelp.com/v3/businesses/search?location=New+York%2C+NY&term=Burger&offset=1000\n",
      "an error occured 400 Client Error: Bad Request for url: https://api.yelp.com/v3/businesses/search?location=New+York%2C+NY&term=Burger&offset=1000\n",
      "an error occured 400 Client Error: Bad Request for url: https://api.yelp.com/v3/businesses/search?location=New+York%2C+NY&term=Burger&offset=1000\n",
      "an error occured 400 Client Error: Bad Request for url: https://api.yelp.com/v3/businesses/search?location=New+York%2C+NY&term=Burger&offset=1000\n",
      "an error occured 400 Client Error: Bad Request for url: https://api.yelp.com/v3/businesses/search?location=New+York%2C+NY&term=Burger&offset=1000\n",
      "an error occured 400 Client Error: Bad Request for url: https://api.yelp.com/v3/businesses/search?location=New+York%2C+NY&term=Burger&offset=1000\n",
      "an error occured 400 Client Error: Bad Request for url: https://api.yelp.com/v3/businesses/search?location=New+York%2C+NY&term=Burger&offset=1000\n",
      "an error occured 400 Client Error: Bad Request for url: https://api.yelp.com/v3/businesses/search?location=New+York%2C+NY&term=Burger&offset=1000\n",
      "an error occured 400 Client Error: Bad Request for url: https://api.yelp.com/v3/businesses/search?location=New+York%2C+NY&term=Burger&offset=1000\n",
      "an error occured 400 Client Error: Bad Request for url: https://api.yelp.com/v3/businesses/search?location=New+York%2C+NY&term=Burger&offset=1000\n",
      "an error occured 400 Client Error: Bad Request for url: https://api.yelp.com/v3/businesses/search?location=New+York%2C+NY&term=Burger&offset=1000\n",
      "an error occured 400 Client Error: Bad Request for url: https://api.yelp.com/v3/businesses/search?location=New+York%2C+NY&term=Burger&offset=1000\n",
      "an error occured 400 Client Error: Bad Request for url: https://api.yelp.com/v3/businesses/search?location=New+York%2C+NY&term=Burger&offset=1000\n",
      "an error occured 400 Client Error: Bad Request for url: https://api.yelp.com/v3/businesses/search?location=New+York%2C+NY&term=Burger&offset=1000\n"
     ]
    },
    {
     "name": "stdout",
     "output_type": "stream",
     "text": [
      "an error occured 400 Client Error: Bad Request for url: https://api.yelp.com/v3/businesses/search?location=New+York%2C+NY&term=Burger&offset=1000\n",
      "an error occured 400 Client Error: Bad Request for url: https://api.yelp.com/v3/businesses/search?location=New+York%2C+NY&term=Burger&offset=1000\n",
      "an error occured 400 Client Error: Bad Request for url: https://api.yelp.com/v3/businesses/search?location=New+York%2C+NY&term=Burger&offset=1000\n",
      "an error occured 400 Client Error: Bad Request for url: https://api.yelp.com/v3/businesses/search?location=New+York%2C+NY&term=Burger&offset=1000\n",
      "an error occured 400 Client Error: Bad Request for url: https://api.yelp.com/v3/businesses/search?location=New+York%2C+NY&term=Burger&offset=1000\n",
      "an error occured 400 Client Error: Bad Request for url: https://api.yelp.com/v3/businesses/search?location=New+York%2C+NY&term=Burger&offset=1000\n",
      "an error occured 400 Client Error: Bad Request for url: https://api.yelp.com/v3/businesses/search?location=New+York%2C+NY&term=Burger&offset=1000\n",
      "an error occured 400 Client Error: Bad Request for url: https://api.yelp.com/v3/businesses/search?location=New+York%2C+NY&term=Burger&offset=1000\n",
      "an error occured 400 Client Error: Bad Request for url: https://api.yelp.com/v3/businesses/search?location=New+York%2C+NY&term=Burger&offset=1000\n",
      "an error occured 400 Client Error: Bad Request for url: https://api.yelp.com/v3/businesses/search?location=New+York%2C+NY&term=Burger&offset=1000\n",
      "an error occured 400 Client Error: Bad Request for url: https://api.yelp.com/v3/businesses/search?location=New+York%2C+NY&term=Burger&offset=1000\n",
      "an error occured 400 Client Error: Bad Request for url: https://api.yelp.com/v3/businesses/search?location=New+York%2C+NY&term=Burger&offset=1000\n",
      "an error occured 400 Client Error: Bad Request for url: https://api.yelp.com/v3/businesses/search?location=New+York%2C+NY&term=Burger&offset=1000\n",
      "an error occured 400 Client Error: Bad Request for url: https://api.yelp.com/v3/businesses/search?location=New+York%2C+NY&term=Burger&offset=1000\n",
      "an error occured 400 Client Error: Bad Request for url: https://api.yelp.com/v3/businesses/search?location=New+York%2C+NY&term=Burger&offset=1000\n",
      "an error occured 400 Client Error: Bad Request for url: https://api.yelp.com/v3/businesses/search?location=New+York%2C+NY&term=Burger&offset=1000\n",
      "an error occured 400 Client Error: Bad Request for url: https://api.yelp.com/v3/businesses/search?location=New+York%2C+NY&term=Burger&offset=1000\n",
      "an error occured 400 Client Error: Bad Request for url: https://api.yelp.com/v3/businesses/search?location=New+York%2C+NY&term=Burger&offset=1000\n",
      "an error occured 400 Client Error: Bad Request for url: https://api.yelp.com/v3/businesses/search?location=New+York%2C+NY&term=Burger&offset=1000\n",
      "an error occured 400 Client Error: Bad Request for url: https://api.yelp.com/v3/businesses/search?location=New+York%2C+NY&term=Burger&offset=1000\n",
      "an error occured 400 Client Error: Bad Request for url: https://api.yelp.com/v3/businesses/search?location=New+York%2C+NY&term=Burger&offset=1000\n",
      "an error occured 400 Client Error: Bad Request for url: https://api.yelp.com/v3/businesses/search?location=New+York%2C+NY&term=Burger&offset=1000\n",
      "an error occured 400 Client Error: Bad Request for url: https://api.yelp.com/v3/businesses/search?location=New+York%2C+NY&term=Burger&offset=1000\n",
      "an error occured 400 Client Error: Bad Request for url: https://api.yelp.com/v3/businesses/search?location=New+York%2C+NY&term=Burger&offset=1000\n",
      "an error occured 400 Client Error: Bad Request for url: https://api.yelp.com/v3/businesses/search?location=New+York%2C+NY&term=Burger&offset=1000\n",
      "an error occured 400 Client Error: Bad Request for url: https://api.yelp.com/v3/businesses/search?location=New+York%2C+NY&term=Burger&offset=1000\n",
      "an error occured 400 Client Error: Bad Request for url: https://api.yelp.com/v3/businesses/search?location=New+York%2C+NY&term=Burger&offset=1000\n",
      "an error occured 400 Client Error: Bad Request for url: https://api.yelp.com/v3/businesses/search?location=New+York%2C+NY&term=Burger&offset=1000\n",
      "an error occured 400 Client Error: Bad Request for url: https://api.yelp.com/v3/businesses/search?location=New+York%2C+NY&term=Burger&offset=1000\n",
      "an error occured 400 Client Error: Bad Request for url: https://api.yelp.com/v3/businesses/search?location=New+York%2C+NY&term=Burger&offset=1000\n",
      "an error occured 400 Client Error: Bad Request for url: https://api.yelp.com/v3/businesses/search?location=New+York%2C+NY&term=Burger&offset=1000\n",
      "an error occured 400 Client Error: Bad Request for url: https://api.yelp.com/v3/businesses/search?location=New+York%2C+NY&term=Burger&offset=1000\n",
      "an error occured 400 Client Error: Bad Request for url: https://api.yelp.com/v3/businesses/search?location=New+York%2C+NY&term=Burger&offset=1000\n",
      "an error occured 400 Client Error: Bad Request for url: https://api.yelp.com/v3/businesses/search?location=New+York%2C+NY&term=Burger&offset=1000\n",
      "an error occured 400 Client Error: Bad Request for url: https://api.yelp.com/v3/businesses/search?location=New+York%2C+NY&term=Burger&offset=1000\n",
      "an error occured 400 Client Error: Bad Request for url: https://api.yelp.com/v3/businesses/search?location=New+York%2C+NY&term=Burger&offset=1000\n",
      "an error occured 400 Client Error: Bad Request for url: https://api.yelp.com/v3/businesses/search?location=New+York%2C+NY&term=Burger&offset=1000\n",
      "an error occured 400 Client Error: Bad Request for url: https://api.yelp.com/v3/businesses/search?location=New+York%2C+NY&term=Burger&offset=1000\n",
      "an error occured 400 Client Error: Bad Request for url: https://api.yelp.com/v3/businesses/search?location=New+York%2C+NY&term=Burger&offset=1000\n",
      "an error occured 400 Client Error: Bad Request for url: https://api.yelp.com/v3/businesses/search?location=New+York%2C+NY&term=Burger&offset=1000\n",
      "an error occured 400 Client Error: Bad Request for url: https://api.yelp.com/v3/businesses/search?location=New+York%2C+NY&term=Burger&offset=1000\n",
      "an error occured 400 Client Error: Bad Request for url: https://api.yelp.com/v3/businesses/search?location=New+York%2C+NY&term=Burger&offset=1000\n",
      "an error occured 400 Client Error: Bad Request for url: https://api.yelp.com/v3/businesses/search?location=New+York%2C+NY&term=Burger&offset=1000\n",
      "an error occured 400 Client Error: Bad Request for url: https://api.yelp.com/v3/businesses/search?location=New+York%2C+NY&term=Burger&offset=1000\n",
      "an error occured 400 Client Error: Bad Request for url: https://api.yelp.com/v3/businesses/search?location=New+York%2C+NY&term=Burger&offset=1000\n",
      "an error occured 400 Client Error: Bad Request for url: https://api.yelp.com/v3/businesses/search?location=New+York%2C+NY&term=Burger&offset=1000\n",
      "an error occured 400 Client Error: Bad Request for url: https://api.yelp.com/v3/businesses/search?location=New+York%2C+NY&term=Burger&offset=1000\n",
      "an error occured 400 Client Error: Bad Request for url: https://api.yelp.com/v3/businesses/search?location=New+York%2C+NY&term=Burger&offset=1000\n",
      "an error occured 400 Client Error: Bad Request for url: https://api.yelp.com/v3/businesses/search?location=New+York%2C+NY&term=Burger&offset=1000\n",
      "an error occured 400 Client Error: Bad Request for url: https://api.yelp.com/v3/businesses/search?location=New+York%2C+NY&term=Burger&offset=1000\n",
      "an error occured 400 Client Error: Bad Request for url: https://api.yelp.com/v3/businesses/search?location=New+York%2C+NY&term=Burger&offset=1000\n",
      "an error occured 400 Client Error: Bad Request for url: https://api.yelp.com/v3/businesses/search?location=New+York%2C+NY&term=Burger&offset=1000\n",
      "an error occured 400 Client Error: Bad Request for url: https://api.yelp.com/v3/businesses/search?location=New+York%2C+NY&term=Burger&offset=1000\n",
      "an error occured 400 Client Error: Bad Request for url: https://api.yelp.com/v3/businesses/search?location=New+York%2C+NY&term=Burger&offset=1000\n",
      "an error occured 400 Client Error: Bad Request for url: https://api.yelp.com/v3/businesses/search?location=New+York%2C+NY&term=Burger&offset=1000\n",
      "an error occured 400 Client Error: Bad Request for url: https://api.yelp.com/v3/businesses/search?location=New+York%2C+NY&term=Burger&offset=1000\n",
      "an error occured 400 Client Error: Bad Request for url: https://api.yelp.com/v3/businesses/search?location=New+York%2C+NY&term=Burger&offset=1000\n"
     ]
    },
    {
     "name": "stdout",
     "output_type": "stream",
     "text": [
      "an error occured 400 Client Error: Bad Request for url: https://api.yelp.com/v3/businesses/search?location=New+York%2C+NY&term=Burger&offset=1000\n",
      "an error occured 400 Client Error: Bad Request for url: https://api.yelp.com/v3/businesses/search?location=New+York%2C+NY&term=Burger&offset=1000\n",
      "an error occured 400 Client Error: Bad Request for url: https://api.yelp.com/v3/businesses/search?location=New+York%2C+NY&term=Burger&offset=1000\n",
      "an error occured 400 Client Error: Bad Request for url: https://api.yelp.com/v3/businesses/search?location=New+York%2C+NY&term=Burger&offset=1000\n",
      "an error occured 400 Client Error: Bad Request for url: https://api.yelp.com/v3/businesses/search?location=New+York%2C+NY&term=Burger&offset=1000\n",
      "an error occured 400 Client Error: Bad Request for url: https://api.yelp.com/v3/businesses/search?location=New+York%2C+NY&term=Burger&offset=1000\n",
      "an error occured 400 Client Error: Bad Request for url: https://api.yelp.com/v3/businesses/search?location=New+York%2C+NY&term=Burger&offset=1000\n",
      "an error occured 400 Client Error: Bad Request for url: https://api.yelp.com/v3/businesses/search?location=New+York%2C+NY&term=Burger&offset=1000\n",
      "an error occured 400 Client Error: Bad Request for url: https://api.yelp.com/v3/businesses/search?location=New+York%2C+NY&term=Burger&offset=1000\n",
      "an error occured 400 Client Error: Bad Request for url: https://api.yelp.com/v3/businesses/search?location=New+York%2C+NY&term=Burger&offset=1000\n",
      "an error occured 400 Client Error: Bad Request for url: https://api.yelp.com/v3/businesses/search?location=New+York%2C+NY&term=Burger&offset=1000\n",
      "an error occured 400 Client Error: Bad Request for url: https://api.yelp.com/v3/businesses/search?location=New+York%2C+NY&term=Burger&offset=1000\n",
      "an error occured 400 Client Error: Bad Request for url: https://api.yelp.com/v3/businesses/search?location=New+York%2C+NY&term=Burger&offset=1000\n",
      "an error occured 400 Client Error: Bad Request for url: https://api.yelp.com/v3/businesses/search?location=New+York%2C+NY&term=Burger&offset=1000\n",
      "an error occured 400 Client Error: Bad Request for url: https://api.yelp.com/v3/businesses/search?location=New+York%2C+NY&term=Burger&offset=1000\n",
      "an error occured 400 Client Error: Bad Request for url: https://api.yelp.com/v3/businesses/search?location=New+York%2C+NY&term=Burger&offset=1000\n",
      "an error occured 400 Client Error: Bad Request for url: https://api.yelp.com/v3/businesses/search?location=New+York%2C+NY&term=Burger&offset=1000\n",
      "an error occured 400 Client Error: Bad Request for url: https://api.yelp.com/v3/businesses/search?location=New+York%2C+NY&term=Burger&offset=1000\n",
      "an error occured 400 Client Error: Bad Request for url: https://api.yelp.com/v3/businesses/search?location=New+York%2C+NY&term=Burger&offset=1000\n",
      "an error occured 400 Client Error: Bad Request for url: https://api.yelp.com/v3/businesses/search?location=New+York%2C+NY&term=Burger&offset=1000\n",
      "an error occured 400 Client Error: Bad Request for url: https://api.yelp.com/v3/businesses/search?location=New+York%2C+NY&term=Burger&offset=1000\n",
      "an error occured 400 Client Error: Bad Request for url: https://api.yelp.com/v3/businesses/search?location=New+York%2C+NY&term=Burger&offset=1000\n",
      "an error occured 400 Client Error: Bad Request for url: https://api.yelp.com/v3/businesses/search?location=New+York%2C+NY&term=Burger&offset=1000\n",
      "an error occured 400 Client Error: Bad Request for url: https://api.yelp.com/v3/businesses/search?location=New+York%2C+NY&term=Burger&offset=1000\n",
      "an error occured 400 Client Error: Bad Request for url: https://api.yelp.com/v3/businesses/search?location=New+York%2C+NY&term=Burger&offset=1000\n",
      "an error occured 400 Client Error: Bad Request for url: https://api.yelp.com/v3/businesses/search?location=New+York%2C+NY&term=Burger&offset=1000\n",
      "an error occured 400 Client Error: Bad Request for url: https://api.yelp.com/v3/businesses/search?location=New+York%2C+NY&term=Burger&offset=1000\n",
      "an error occured 400 Client Error: Bad Request for url: https://api.yelp.com/v3/businesses/search?location=New+York%2C+NY&term=Burger&offset=1000\n",
      "an error occured 400 Client Error: Bad Request for url: https://api.yelp.com/v3/businesses/search?location=New+York%2C+NY&term=Burger&offset=1000\n",
      "an error occured 400 Client Error: Bad Request for url: https://api.yelp.com/v3/businesses/search?location=New+York%2C+NY&term=Burger&offset=1000\n",
      "an error occured 400 Client Error: Bad Request for url: https://api.yelp.com/v3/businesses/search?location=New+York%2C+NY&term=Burger&offset=1000\n",
      "an error occured 400 Client Error: Bad Request for url: https://api.yelp.com/v3/businesses/search?location=New+York%2C+NY&term=Burger&offset=1000\n",
      "an error occured 400 Client Error: Bad Request for url: https://api.yelp.com/v3/businesses/search?location=New+York%2C+NY&term=Burger&offset=1000\n",
      "an error occured 400 Client Error: Bad Request for url: https://api.yelp.com/v3/businesses/search?location=New+York%2C+NY&term=Burger&offset=1000\n",
      "an error occured 400 Client Error: Bad Request for url: https://api.yelp.com/v3/businesses/search?location=New+York%2C+NY&term=Burger&offset=1000\n",
      "an error occured 400 Client Error: Bad Request for url: https://api.yelp.com/v3/businesses/search?location=New+York%2C+NY&term=Burger&offset=1000\n",
      "an error occured 400 Client Error: Bad Request for url: https://api.yelp.com/v3/businesses/search?location=New+York%2C+NY&term=Burger&offset=1000\n",
      "an error occured 400 Client Error: Bad Request for url: https://api.yelp.com/v3/businesses/search?location=New+York%2C+NY&term=Burger&offset=1000\n",
      "an error occured 400 Client Error: Bad Request for url: https://api.yelp.com/v3/businesses/search?location=New+York%2C+NY&term=Burger&offset=1000\n",
      "an error occured 400 Client Error: Bad Request for url: https://api.yelp.com/v3/businesses/search?location=New+York%2C+NY&term=Burger&offset=1000\n",
      "an error occured 400 Client Error: Bad Request for url: https://api.yelp.com/v3/businesses/search?location=New+York%2C+NY&term=Burger&offset=1000\n",
      "an error occured 400 Client Error: Bad Request for url: https://api.yelp.com/v3/businesses/search?location=New+York%2C+NY&term=Burger&offset=1000\n",
      "an error occured 400 Client Error: Bad Request for url: https://api.yelp.com/v3/businesses/search?location=New+York%2C+NY&term=Burger&offset=1000\n",
      "an error occured 400 Client Error: Bad Request for url: https://api.yelp.com/v3/businesses/search?location=New+York%2C+NY&term=Burger&offset=1000\n",
      "an error occured 400 Client Error: Bad Request for url: https://api.yelp.com/v3/businesses/search?location=New+York%2C+NY&term=Burger&offset=1000\n",
      "an error occured 400 Client Error: Bad Request for url: https://api.yelp.com/v3/businesses/search?location=New+York%2C+NY&term=Burger&offset=1000\n",
      "an error occured 400 Client Error: Bad Request for url: https://api.yelp.com/v3/businesses/search?location=New+York%2C+NY&term=Burger&offset=1000\n",
      "an error occured 400 Client Error: Bad Request for url: https://api.yelp.com/v3/businesses/search?location=New+York%2C+NY&term=Burger&offset=1000\n",
      "an error occured 400 Client Error: Bad Request for url: https://api.yelp.com/v3/businesses/search?location=New+York%2C+NY&term=Burger&offset=1000\n",
      "an error occured 400 Client Error: Bad Request for url: https://api.yelp.com/v3/businesses/search?location=New+York%2C+NY&term=Burger&offset=1000\n",
      "an error occured 400 Client Error: Bad Request for url: https://api.yelp.com/v3/businesses/search?location=New+York%2C+NY&term=Burger&offset=1000\n",
      "an error occured 400 Client Error: Bad Request for url: https://api.yelp.com/v3/businesses/search?location=New+York%2C+NY&term=Burger&offset=1000\n",
      "an error occured 400 Client Error: Bad Request for url: https://api.yelp.com/v3/businesses/search?location=New+York%2C+NY&term=Burger&offset=1000\n",
      "an error occured 400 Client Error: Bad Request for url: https://api.yelp.com/v3/businesses/search?location=New+York%2C+NY&term=Burger&offset=1000\n",
      "an error occured 400 Client Error: Bad Request for url: https://api.yelp.com/v3/businesses/search?location=New+York%2C+NY&term=Burger&offset=1000\n",
      "an error occured 400 Client Error: Bad Request for url: https://api.yelp.com/v3/businesses/search?location=New+York%2C+NY&term=Burger&offset=1000\n",
      "an error occured 400 Client Error: Bad Request for url: https://api.yelp.com/v3/businesses/search?location=New+York%2C+NY&term=Burger&offset=1000\n"
     ]
    },
    {
     "name": "stdout",
     "output_type": "stream",
     "text": [
      "an error occured 400 Client Error: Bad Request for url: https://api.yelp.com/v3/businesses/search?location=New+York%2C+NY&term=Burger&offset=1000\n",
      "an error occured 400 Client Error: Bad Request for url: https://api.yelp.com/v3/businesses/search?location=New+York%2C+NY&term=Burger&offset=1000\n",
      "an error occured 400 Client Error: Bad Request for url: https://api.yelp.com/v3/businesses/search?location=New+York%2C+NY&term=Burger&offset=1000\n",
      "an error occured 400 Client Error: Bad Request for url: https://api.yelp.com/v3/businesses/search?location=New+York%2C+NY&term=Burger&offset=1000\n",
      "an error occured 400 Client Error: Bad Request for url: https://api.yelp.com/v3/businesses/search?location=New+York%2C+NY&term=Burger&offset=1000\n",
      "an error occured 400 Client Error: Bad Request for url: https://api.yelp.com/v3/businesses/search?location=New+York%2C+NY&term=Burger&offset=1000\n",
      "an error occured 400 Client Error: Bad Request for url: https://api.yelp.com/v3/businesses/search?location=New+York%2C+NY&term=Burger&offset=1000\n",
      "an error occured 400 Client Error: Bad Request for url: https://api.yelp.com/v3/businesses/search?location=New+York%2C+NY&term=Burger&offset=1000\n",
      "an error occured 400 Client Error: Bad Request for url: https://api.yelp.com/v3/businesses/search?location=New+York%2C+NY&term=Burger&offset=1000\n",
      "an error occured 400 Client Error: Bad Request for url: https://api.yelp.com/v3/businesses/search?location=New+York%2C+NY&term=Burger&offset=1000\n",
      "an error occured 400 Client Error: Bad Request for url: https://api.yelp.com/v3/businesses/search?location=New+York%2C+NY&term=Burger&offset=1000\n",
      "an error occured 400 Client Error: Bad Request for url: https://api.yelp.com/v3/businesses/search?location=New+York%2C+NY&term=Burger&offset=1000\n",
      "an error occured 400 Client Error: Bad Request for url: https://api.yelp.com/v3/businesses/search?location=New+York%2C+NY&term=Burger&offset=1000\n",
      "an error occured 400 Client Error: Bad Request for url: https://api.yelp.com/v3/businesses/search?location=New+York%2C+NY&term=Burger&offset=1000\n",
      "an error occured 400 Client Error: Bad Request for url: https://api.yelp.com/v3/businesses/search?location=New+York%2C+NY&term=Burger&offset=1000\n",
      "an error occured 400 Client Error: Bad Request for url: https://api.yelp.com/v3/businesses/search?location=New+York%2C+NY&term=Burger&offset=1000\n",
      "an error occured 400 Client Error: Bad Request for url: https://api.yelp.com/v3/businesses/search?location=New+York%2C+NY&term=Burger&offset=1000\n",
      "an error occured 400 Client Error: Bad Request for url: https://api.yelp.com/v3/businesses/search?location=New+York%2C+NY&term=Burger&offset=1000\n",
      "an error occured 400 Client Error: Bad Request for url: https://api.yelp.com/v3/businesses/search?location=New+York%2C+NY&term=Burger&offset=1000\n",
      "an error occured 400 Client Error: Bad Request for url: https://api.yelp.com/v3/businesses/search?location=New+York%2C+NY&term=Burger&offset=1000\n",
      "an error occured 400 Client Error: Bad Request for url: https://api.yelp.com/v3/businesses/search?location=New+York%2C+NY&term=Burger&offset=1000\n",
      "an error occured 400 Client Error: Bad Request for url: https://api.yelp.com/v3/businesses/search?location=New+York%2C+NY&term=Burger&offset=1000\n",
      "an error occured 400 Client Error: Bad Request for url: https://api.yelp.com/v3/businesses/search?location=New+York%2C+NY&term=Burger&offset=1000\n",
      "an error occured 400 Client Error: Bad Request for url: https://api.yelp.com/v3/businesses/search?location=New+York%2C+NY&term=Burger&offset=1000\n",
      "an error occured 400 Client Error: Bad Request for url: https://api.yelp.com/v3/businesses/search?location=New+York%2C+NY&term=Burger&offset=1000\n",
      "an error occured 400 Client Error: Bad Request for url: https://api.yelp.com/v3/businesses/search?location=New+York%2C+NY&term=Burger&offset=1000\n",
      "an error occured 400 Client Error: Bad Request for url: https://api.yelp.com/v3/businesses/search?location=New+York%2C+NY&term=Burger&offset=1000\n",
      "an error occured 400 Client Error: Bad Request for url: https://api.yelp.com/v3/businesses/search?location=New+York%2C+NY&term=Burger&offset=1000\n",
      "an error occured 400 Client Error: Bad Request for url: https://api.yelp.com/v3/businesses/search?location=New+York%2C+NY&term=Burger&offset=1000\n",
      "an error occured 400 Client Error: Bad Request for url: https://api.yelp.com/v3/businesses/search?location=New+York%2C+NY&term=Burger&offset=1000\n",
      "an error occured 400 Client Error: Bad Request for url: https://api.yelp.com/v3/businesses/search?location=New+York%2C+NY&term=Burger&offset=1000\n",
      "an error occured 400 Client Error: Bad Request for url: https://api.yelp.com/v3/businesses/search?location=New+York%2C+NY&term=Burger&offset=1000\n",
      "an error occured 400 Client Error: Bad Request for url: https://api.yelp.com/v3/businesses/search?location=New+York%2C+NY&term=Burger&offset=1000\n",
      "an error occured 400 Client Error: Bad Request for url: https://api.yelp.com/v3/businesses/search?location=New+York%2C+NY&term=Burger&offset=1000\n",
      "an error occured 400 Client Error: Bad Request for url: https://api.yelp.com/v3/businesses/search?location=New+York%2C+NY&term=Burger&offset=1000\n",
      "an error occured 400 Client Error: Bad Request for url: https://api.yelp.com/v3/businesses/search?location=New+York%2C+NY&term=Burger&offset=1000\n",
      "an error occured 400 Client Error: Bad Request for url: https://api.yelp.com/v3/businesses/search?location=New+York%2C+NY&term=Burger&offset=1000\n",
      "an error occured 400 Client Error: Bad Request for url: https://api.yelp.com/v3/businesses/search?location=New+York%2C+NY&term=Burger&offset=1000\n",
      "an error occured 400 Client Error: Bad Request for url: https://api.yelp.com/v3/businesses/search?location=New+York%2C+NY&term=Burger&offset=1000\n",
      "an error occured 400 Client Error: Bad Request for url: https://api.yelp.com/v3/businesses/search?location=New+York%2C+NY&term=Burger&offset=1000\n",
      "an error occured 400 Client Error: Bad Request for url: https://api.yelp.com/v3/businesses/search?location=New+York%2C+NY&term=Burger&offset=1000\n",
      "an error occured 400 Client Error: Bad Request for url: https://api.yelp.com/v3/businesses/search?location=New+York%2C+NY&term=Burger&offset=1000\n",
      "an error occured 400 Client Error: Bad Request for url: https://api.yelp.com/v3/businesses/search?location=New+York%2C+NY&term=Burger&offset=1000\n",
      "an error occured 400 Client Error: Bad Request for url: https://api.yelp.com/v3/businesses/search?location=New+York%2C+NY&term=Burger&offset=1000\n",
      "an error occured 400 Client Error: Bad Request for url: https://api.yelp.com/v3/businesses/search?location=New+York%2C+NY&term=Burger&offset=1000\n",
      "an error occured 400 Client Error: Bad Request for url: https://api.yelp.com/v3/businesses/search?location=New+York%2C+NY&term=Burger&offset=1000\n",
      "an error occured 400 Client Error: Bad Request for url: https://api.yelp.com/v3/businesses/search?location=New+York%2C+NY&term=Burger&offset=1000\n",
      "an error occured 400 Client Error: Bad Request for url: https://api.yelp.com/v3/businesses/search?location=New+York%2C+NY&term=Burger&offset=1000\n",
      "an error occured 400 Client Error: Bad Request for url: https://api.yelp.com/v3/businesses/search?location=New+York%2C+NY&term=Burger&offset=1000\n",
      "an error occured 400 Client Error: Bad Request for url: https://api.yelp.com/v3/businesses/search?location=New+York%2C+NY&term=Burger&offset=1000\n",
      "an error occured 400 Client Error: Bad Request for url: https://api.yelp.com/v3/businesses/search?location=New+York%2C+NY&term=Burger&offset=1000\n",
      "an error occured 400 Client Error: Bad Request for url: https://api.yelp.com/v3/businesses/search?location=New+York%2C+NY&term=Burger&offset=1000\n",
      "an error occured 400 Client Error: Bad Request for url: https://api.yelp.com/v3/businesses/search?location=New+York%2C+NY&term=Burger&offset=1000\n",
      "an error occured 400 Client Error: Bad Request for url: https://api.yelp.com/v3/businesses/search?location=New+York%2C+NY&term=Burger&offset=1000\n",
      "an error occured 400 Client Error: Bad Request for url: https://api.yelp.com/v3/businesses/search?location=New+York%2C+NY&term=Burger&offset=1000\n",
      "an error occured 400 Client Error: Bad Request for url: https://api.yelp.com/v3/businesses/search?location=New+York%2C+NY&term=Burger&offset=1000\n",
      "an error occured 400 Client Error: Bad Request for url: https://api.yelp.com/v3/businesses/search?location=New+York%2C+NY&term=Burger&offset=1000\n"
     ]
    },
    {
     "name": "stdout",
     "output_type": "stream",
     "text": [
      "an error occured 400 Client Error: Bad Request for url: https://api.yelp.com/v3/businesses/search?location=New+York%2C+NY&term=Burger&offset=1000\n",
      "an error occured 400 Client Error: Bad Request for url: https://api.yelp.com/v3/businesses/search?location=New+York%2C+NY&term=Burger&offset=1000\n",
      "an error occured 400 Client Error: Bad Request for url: https://api.yelp.com/v3/businesses/search?location=New+York%2C+NY&term=Burger&offset=1000\n",
      "an error occured 400 Client Error: Bad Request for url: https://api.yelp.com/v3/businesses/search?location=New+York%2C+NY&term=Burger&offset=1000\n",
      "an error occured 400 Client Error: Bad Request for url: https://api.yelp.com/v3/businesses/search?location=New+York%2C+NY&term=Burger&offset=1000\n",
      "an error occured 400 Client Error: Bad Request for url: https://api.yelp.com/v3/businesses/search?location=New+York%2C+NY&term=Burger&offset=1000\n",
      "an error occured 400 Client Error: Bad Request for url: https://api.yelp.com/v3/businesses/search?location=New+York%2C+NY&term=Burger&offset=1000\n",
      "an error occured 400 Client Error: Bad Request for url: https://api.yelp.com/v3/businesses/search?location=New+York%2C+NY&term=Burger&offset=1000\n",
      "an error occured 400 Client Error: Bad Request for url: https://api.yelp.com/v3/businesses/search?location=New+York%2C+NY&term=Burger&offset=1000\n",
      "an error occured 400 Client Error: Bad Request for url: https://api.yelp.com/v3/businesses/search?location=New+York%2C+NY&term=Burger&offset=1000\n",
      "an error occured 400 Client Error: Bad Request for url: https://api.yelp.com/v3/businesses/search?location=New+York%2C+NY&term=Burger&offset=1000\n",
      "an error occured 400 Client Error: Bad Request for url: https://api.yelp.com/v3/businesses/search?location=New+York%2C+NY&term=Burger&offset=1000\n",
      "an error occured 400 Client Error: Bad Request for url: https://api.yelp.com/v3/businesses/search?location=New+York%2C+NY&term=Burger&offset=1000\n",
      "an error occured 400 Client Error: Bad Request for url: https://api.yelp.com/v3/businesses/search?location=New+York%2C+NY&term=Burger&offset=1000\n",
      "an error occured 400 Client Error: Bad Request for url: https://api.yelp.com/v3/businesses/search?location=New+York%2C+NY&term=Burger&offset=1000\n",
      "an error occured 400 Client Error: Bad Request for url: https://api.yelp.com/v3/businesses/search?location=New+York%2C+NY&term=Burger&offset=1000\n",
      "an error occured 400 Client Error: Bad Request for url: https://api.yelp.com/v3/businesses/search?location=New+York%2C+NY&term=Burger&offset=1000\n",
      "an error occured 400 Client Error: Bad Request for url: https://api.yelp.com/v3/businesses/search?location=New+York%2C+NY&term=Burger&offset=1000\n",
      "an error occured 400 Client Error: Bad Request for url: https://api.yelp.com/v3/businesses/search?location=New+York%2C+NY&term=Burger&offset=1000\n",
      "an error occured 400 Client Error: Bad Request for url: https://api.yelp.com/v3/businesses/search?location=New+York%2C+NY&term=Burger&offset=1000\n",
      "an error occured 400 Client Error: Bad Request for url: https://api.yelp.com/v3/businesses/search?location=New+York%2C+NY&term=Burger&offset=1000\n",
      "an error occured 400 Client Error: Bad Request for url: https://api.yelp.com/v3/businesses/search?location=New+York%2C+NY&term=Burger&offset=1000\n",
      "an error occured 400 Client Error: Bad Request for url: https://api.yelp.com/v3/businesses/search?location=New+York%2C+NY&term=Burger&offset=1000\n",
      "an error occured 400 Client Error: Bad Request for url: https://api.yelp.com/v3/businesses/search?location=New+York%2C+NY&term=Burger&offset=1000\n",
      "an error occured 400 Client Error: Bad Request for url: https://api.yelp.com/v3/businesses/search?location=New+York%2C+NY&term=Burger&offset=1000\n",
      "an error occured 400 Client Error: Bad Request for url: https://api.yelp.com/v3/businesses/search?location=New+York%2C+NY&term=Burger&offset=1000\n",
      "an error occured 400 Client Error: Bad Request for url: https://api.yelp.com/v3/businesses/search?location=New+York%2C+NY&term=Burger&offset=1000\n",
      "an error occured 400 Client Error: Bad Request for url: https://api.yelp.com/v3/businesses/search?location=New+York%2C+NY&term=Burger&offset=1000\n",
      "an error occured 400 Client Error: Bad Request for url: https://api.yelp.com/v3/businesses/search?location=New+York%2C+NY&term=Burger&offset=1000\n",
      "an error occured 400 Client Error: Bad Request for url: https://api.yelp.com/v3/businesses/search?location=New+York%2C+NY&term=Burger&offset=1000\n",
      "an error occured 400 Client Error: Bad Request for url: https://api.yelp.com/v3/businesses/search?location=New+York%2C+NY&term=Burger&offset=1000\n",
      "an error occured 400 Client Error: Bad Request for url: https://api.yelp.com/v3/businesses/search?location=New+York%2C+NY&term=Burger&offset=1000\n",
      "an error occured 400 Client Error: Bad Request for url: https://api.yelp.com/v3/businesses/search?location=New+York%2C+NY&term=Burger&offset=1000\n",
      "an error occured 400 Client Error: Bad Request for url: https://api.yelp.com/v3/businesses/search?location=New+York%2C+NY&term=Burger&offset=1000\n",
      "an error occured 400 Client Error: Bad Request for url: https://api.yelp.com/v3/businesses/search?location=New+York%2C+NY&term=Burger&offset=1000\n",
      "an error occured 400 Client Error: Bad Request for url: https://api.yelp.com/v3/businesses/search?location=New+York%2C+NY&term=Burger&offset=1000\n",
      "an error occured 400 Client Error: Bad Request for url: https://api.yelp.com/v3/businesses/search?location=New+York%2C+NY&term=Burger&offset=1000\n",
      "an error occured 400 Client Error: Bad Request for url: https://api.yelp.com/v3/businesses/search?location=New+York%2C+NY&term=Burger&offset=1000\n",
      "an error occured 400 Client Error: Bad Request for url: https://api.yelp.com/v3/businesses/search?location=New+York%2C+NY&term=Burger&offset=1000\n",
      "an error occured 400 Client Error: Bad Request for url: https://api.yelp.com/v3/businesses/search?location=New+York%2C+NY&term=Burger&offset=1000\n",
      "an error occured 400 Client Error: Bad Request for url: https://api.yelp.com/v3/businesses/search?location=New+York%2C+NY&term=Burger&offset=1000\n",
      "an error occured 400 Client Error: Bad Request for url: https://api.yelp.com/v3/businesses/search?location=New+York%2C+NY&term=Burger&offset=1000\n",
      "an error occured 400 Client Error: Bad Request for url: https://api.yelp.com/v3/businesses/search?location=New+York%2C+NY&term=Burger&offset=1000\n",
      "an error occured 400 Client Error: Bad Request for url: https://api.yelp.com/v3/businesses/search?location=New+York%2C+NY&term=Burger&offset=1000\n",
      "an error occured 400 Client Error: Bad Request for url: https://api.yelp.com/v3/businesses/search?location=New+York%2C+NY&term=Burger&offset=1000\n",
      "an error occured 400 Client Error: Bad Request for url: https://api.yelp.com/v3/businesses/search?location=New+York%2C+NY&term=Burger&offset=1000\n",
      "an error occured 400 Client Error: Bad Request for url: https://api.yelp.com/v3/businesses/search?location=New+York%2C+NY&term=Burger&offset=1000\n",
      "an error occured 400 Client Error: Bad Request for url: https://api.yelp.com/v3/businesses/search?location=New+York%2C+NY&term=Burger&offset=1000\n",
      "an error occured 400 Client Error: Bad Request for url: https://api.yelp.com/v3/businesses/search?location=New+York%2C+NY&term=Burger&offset=1000\n",
      "an error occured 400 Client Error: Bad Request for url: https://api.yelp.com/v3/businesses/search?location=New+York%2C+NY&term=Burger&offset=1000\n",
      "an error occured 400 Client Error: Bad Request for url: https://api.yelp.com/v3/businesses/search?location=New+York%2C+NY&term=Burger&offset=1000\n",
      "an error occured 400 Client Error: Bad Request for url: https://api.yelp.com/v3/businesses/search?location=New+York%2C+NY&term=Burger&offset=1000\n",
      "an error occured 400 Client Error: Bad Request for url: https://api.yelp.com/v3/businesses/search?location=New+York%2C+NY&term=Burger&offset=1000\n",
      "an error occured 400 Client Error: Bad Request for url: https://api.yelp.com/v3/businesses/search?location=New+York%2C+NY&term=Burger&offset=1000\n",
      "an error occured 400 Client Error: Bad Request for url: https://api.yelp.com/v3/businesses/search?location=New+York%2C+NY&term=Burger&offset=1000\n",
      "an error occured 400 Client Error: Bad Request for url: https://api.yelp.com/v3/businesses/search?location=New+York%2C+NY&term=Burger&offset=1000\n",
      "an error occured 400 Client Error: Bad Request for url: https://api.yelp.com/v3/businesses/search?location=New+York%2C+NY&term=Burger&offset=1000\n"
     ]
    },
    {
     "name": "stdout",
     "output_type": "stream",
     "text": [
      "an error occured 400 Client Error: Bad Request for url: https://api.yelp.com/v3/businesses/search?location=New+York%2C+NY&term=Burger&offset=1000\n",
      "an error occured 400 Client Error: Bad Request for url: https://api.yelp.com/v3/businesses/search?location=New+York%2C+NY&term=Burger&offset=1000\n",
      "an error occured 400 Client Error: Bad Request for url: https://api.yelp.com/v3/businesses/search?location=New+York%2C+NY&term=Burger&offset=1000\n",
      "an error occured 400 Client Error: Bad Request for url: https://api.yelp.com/v3/businesses/search?location=New+York%2C+NY&term=Burger&offset=1000\n",
      "an error occured 400 Client Error: Bad Request for url: https://api.yelp.com/v3/businesses/search?location=New+York%2C+NY&term=Burger&offset=1000\n",
      "an error occured 400 Client Error: Bad Request for url: https://api.yelp.com/v3/businesses/search?location=New+York%2C+NY&term=Burger&offset=1000\n",
      "an error occured 400 Client Error: Bad Request for url: https://api.yelp.com/v3/businesses/search?location=New+York%2C+NY&term=Burger&offset=1000\n",
      "an error occured 400 Client Error: Bad Request for url: https://api.yelp.com/v3/businesses/search?location=New+York%2C+NY&term=Burger&offset=1000\n",
      "an error occured 400 Client Error: Bad Request for url: https://api.yelp.com/v3/businesses/search?location=New+York%2C+NY&term=Burger&offset=1000\n",
      "an error occured 400 Client Error: Bad Request for url: https://api.yelp.com/v3/businesses/search?location=New+York%2C+NY&term=Burger&offset=1000\n",
      "an error occured 400 Client Error: Bad Request for url: https://api.yelp.com/v3/businesses/search?location=New+York%2C+NY&term=Burger&offset=1000\n",
      "an error occured 400 Client Error: Bad Request for url: https://api.yelp.com/v3/businesses/search?location=New+York%2C+NY&term=Burger&offset=1000\n",
      "an error occured 400 Client Error: Bad Request for url: https://api.yelp.com/v3/businesses/search?location=New+York%2C+NY&term=Burger&offset=1000\n",
      "an error occured 400 Client Error: Bad Request for url: https://api.yelp.com/v3/businesses/search?location=New+York%2C+NY&term=Burger&offset=1000\n",
      "an error occured 400 Client Error: Bad Request for url: https://api.yelp.com/v3/businesses/search?location=New+York%2C+NY&term=Burger&offset=1000\n",
      "an error occured 400 Client Error: Bad Request for url: https://api.yelp.com/v3/businesses/search?location=New+York%2C+NY&term=Burger&offset=1000\n",
      "an error occured 400 Client Error: Bad Request for url: https://api.yelp.com/v3/businesses/search?location=New+York%2C+NY&term=Burger&offset=1000\n",
      "an error occured 400 Client Error: Bad Request for url: https://api.yelp.com/v3/businesses/search?location=New+York%2C+NY&term=Burger&offset=1000\n",
      "an error occured 400 Client Error: Bad Request for url: https://api.yelp.com/v3/businesses/search?location=New+York%2C+NY&term=Burger&offset=1000\n",
      "an error occured 400 Client Error: Bad Request for url: https://api.yelp.com/v3/businesses/search?location=New+York%2C+NY&term=Burger&offset=1000\n",
      "an error occured 400 Client Error: Bad Request for url: https://api.yelp.com/v3/businesses/search?location=New+York%2C+NY&term=Burger&offset=1000\n",
      "an error occured 400 Client Error: Bad Request for url: https://api.yelp.com/v3/businesses/search?location=New+York%2C+NY&term=Burger&offset=1000\n",
      "an error occured 400 Client Error: Bad Request for url: https://api.yelp.com/v3/businesses/search?location=New+York%2C+NY&term=Burger&offset=1000\n",
      "an error occured 400 Client Error: Bad Request for url: https://api.yelp.com/v3/businesses/search?location=New+York%2C+NY&term=Burger&offset=1000\n",
      "an error occured 400 Client Error: Bad Request for url: https://api.yelp.com/v3/businesses/search?location=New+York%2C+NY&term=Burger&offset=1000\n",
      "an error occured 400 Client Error: Bad Request for url: https://api.yelp.com/v3/businesses/search?location=New+York%2C+NY&term=Burger&offset=1000\n",
      "an error occured 400 Client Error: Bad Request for url: https://api.yelp.com/v3/businesses/search?location=New+York%2C+NY&term=Burger&offset=1000\n",
      "an error occured 400 Client Error: Bad Request for url: https://api.yelp.com/v3/businesses/search?location=New+York%2C+NY&term=Burger&offset=1000\n",
      "an error occured 400 Client Error: Bad Request for url: https://api.yelp.com/v3/businesses/search?location=New+York%2C+NY&term=Burger&offset=1000\n",
      "an error occured 400 Client Error: Bad Request for url: https://api.yelp.com/v3/businesses/search?location=New+York%2C+NY&term=Burger&offset=1000\n",
      "an error occured 400 Client Error: Bad Request for url: https://api.yelp.com/v3/businesses/search?location=New+York%2C+NY&term=Burger&offset=1000\n",
      "an error occured 400 Client Error: Bad Request for url: https://api.yelp.com/v3/businesses/search?location=New+York%2C+NY&term=Burger&offset=1000\n",
      "an error occured 400 Client Error: Bad Request for url: https://api.yelp.com/v3/businesses/search?location=New+York%2C+NY&term=Burger&offset=1000\n",
      "an error occured 400 Client Error: Bad Request for url: https://api.yelp.com/v3/businesses/search?location=New+York%2C+NY&term=Burger&offset=1000\n",
      "an error occured 400 Client Error: Bad Request for url: https://api.yelp.com/v3/businesses/search?location=New+York%2C+NY&term=Burger&offset=1000\n",
      "an error occured 400 Client Error: Bad Request for url: https://api.yelp.com/v3/businesses/search?location=New+York%2C+NY&term=Burger&offset=1000\n",
      "an error occured 400 Client Error: Bad Request for url: https://api.yelp.com/v3/businesses/search?location=New+York%2C+NY&term=Burger&offset=1000\n",
      "an error occured 400 Client Error: Bad Request for url: https://api.yelp.com/v3/businesses/search?location=New+York%2C+NY&term=Burger&offset=1000\n",
      "an error occured 400 Client Error: Bad Request for url: https://api.yelp.com/v3/businesses/search?location=New+York%2C+NY&term=Burger&offset=1000\n",
      "an error occured 400 Client Error: Bad Request for url: https://api.yelp.com/v3/businesses/search?location=New+York%2C+NY&term=Burger&offset=1000\n",
      "an error occured 400 Client Error: Bad Request for url: https://api.yelp.com/v3/businesses/search?location=New+York%2C+NY&term=Burger&offset=1000\n",
      "an error occured 400 Client Error: Bad Request for url: https://api.yelp.com/v3/businesses/search?location=New+York%2C+NY&term=Burger&offset=1000\n",
      "an error occured 400 Client Error: Bad Request for url: https://api.yelp.com/v3/businesses/search?location=New+York%2C+NY&term=Burger&offset=1000\n",
      "an error occured 400 Client Error: Bad Request for url: https://api.yelp.com/v3/businesses/search?location=New+York%2C+NY&term=Burger&offset=1000\n",
      "an error occured 400 Client Error: Bad Request for url: https://api.yelp.com/v3/businesses/search?location=New+York%2C+NY&term=Burger&offset=1000\n",
      "an error occured 400 Client Error: Bad Request for url: https://api.yelp.com/v3/businesses/search?location=New+York%2C+NY&term=Burger&offset=1000\n",
      "an error occured 400 Client Error: Bad Request for url: https://api.yelp.com/v3/businesses/search?location=New+York%2C+NY&term=Burger&offset=1000\n",
      "an error occured 400 Client Error: Bad Request for url: https://api.yelp.com/v3/businesses/search?location=New+York%2C+NY&term=Burger&offset=1000\n",
      "an error occured 400 Client Error: Bad Request for url: https://api.yelp.com/v3/businesses/search?location=New+York%2C+NY&term=Burger&offset=1000\n",
      "an error occured 400 Client Error: Bad Request for url: https://api.yelp.com/v3/businesses/search?location=New+York%2C+NY&term=Burger&offset=1000\n",
      "an error occured 400 Client Error: Bad Request for url: https://api.yelp.com/v3/businesses/search?location=New+York%2C+NY&term=Burger&offset=1000\n",
      "an error occured 400 Client Error: Bad Request for url: https://api.yelp.com/v3/businesses/search?location=New+York%2C+NY&term=Burger&offset=1000\n",
      "an error occured 400 Client Error: Bad Request for url: https://api.yelp.com/v3/businesses/search?location=New+York%2C+NY&term=Burger&offset=1000\n",
      "an error occured 400 Client Error: Bad Request for url: https://api.yelp.com/v3/businesses/search?location=New+York%2C+NY&term=Burger&offset=1000\n",
      "an error occured 400 Client Error: Bad Request for url: https://api.yelp.com/v3/businesses/search?location=New+York%2C+NY&term=Burger&offset=1000\n",
      "an error occured 400 Client Error: Bad Request for url: https://api.yelp.com/v3/businesses/search?location=New+York%2C+NY&term=Burger&offset=1000\n",
      "an error occured 400 Client Error: Bad Request for url: https://api.yelp.com/v3/businesses/search?location=New+York%2C+NY&term=Burger&offset=1000\n"
     ]
    },
    {
     "name": "stdout",
     "output_type": "stream",
     "text": [
      "an error occured 400 Client Error: Bad Request for url: https://api.yelp.com/v3/businesses/search?location=New+York%2C+NY&term=Burger&offset=1000\n",
      "an error occured 400 Client Error: Bad Request for url: https://api.yelp.com/v3/businesses/search?location=New+York%2C+NY&term=Burger&offset=1000\n",
      "an error occured 400 Client Error: Bad Request for url: https://api.yelp.com/v3/businesses/search?location=New+York%2C+NY&term=Burger&offset=1000\n",
      "an error occured 400 Client Error: Bad Request for url: https://api.yelp.com/v3/businesses/search?location=New+York%2C+NY&term=Burger&offset=1000\n",
      "an error occured 400 Client Error: Bad Request for url: https://api.yelp.com/v3/businesses/search?location=New+York%2C+NY&term=Burger&offset=1000\n",
      "an error occured 400 Client Error: Bad Request for url: https://api.yelp.com/v3/businesses/search?location=New+York%2C+NY&term=Burger&offset=1000\n",
      "an error occured 400 Client Error: Bad Request for url: https://api.yelp.com/v3/businesses/search?location=New+York%2C+NY&term=Burger&offset=1000\n",
      "an error occured 400 Client Error: Bad Request for url: https://api.yelp.com/v3/businesses/search?location=New+York%2C+NY&term=Burger&offset=1000\n",
      "an error occured 400 Client Error: Bad Request for url: https://api.yelp.com/v3/businesses/search?location=New+York%2C+NY&term=Burger&offset=1000\n",
      "an error occured 400 Client Error: Bad Request for url: https://api.yelp.com/v3/businesses/search?location=New+York%2C+NY&term=Burger&offset=1000\n",
      "an error occured 400 Client Error: Bad Request for url: https://api.yelp.com/v3/businesses/search?location=New+York%2C+NY&term=Burger&offset=1000\n",
      "an error occured 400 Client Error: Bad Request for url: https://api.yelp.com/v3/businesses/search?location=New+York%2C+NY&term=Burger&offset=1000\n",
      "an error occured 400 Client Error: Bad Request for url: https://api.yelp.com/v3/businesses/search?location=New+York%2C+NY&term=Burger&offset=1000\n",
      "an error occured 400 Client Error: Bad Request for url: https://api.yelp.com/v3/businesses/search?location=New+York%2C+NY&term=Burger&offset=1000\n",
      "an error occured 400 Client Error: Bad Request for url: https://api.yelp.com/v3/businesses/search?location=New+York%2C+NY&term=Burger&offset=1000\n",
      "an error occured 400 Client Error: Bad Request for url: https://api.yelp.com/v3/businesses/search?location=New+York%2C+NY&term=Burger&offset=1000\n",
      "an error occured 400 Client Error: Bad Request for url: https://api.yelp.com/v3/businesses/search?location=New+York%2C+NY&term=Burger&offset=1000\n",
      "an error occured 400 Client Error: Bad Request for url: https://api.yelp.com/v3/businesses/search?location=New+York%2C+NY&term=Burger&offset=1000\n",
      "an error occured 400 Client Error: Bad Request for url: https://api.yelp.com/v3/businesses/search?location=New+York%2C+NY&term=Burger&offset=1000\n",
      "an error occured 400 Client Error: Bad Request for url: https://api.yelp.com/v3/businesses/search?location=New+York%2C+NY&term=Burger&offset=1000\n",
      "an error occured 400 Client Error: Bad Request for url: https://api.yelp.com/v3/businesses/search?location=New+York%2C+NY&term=Burger&offset=1000\n",
      "an error occured 400 Client Error: Bad Request for url: https://api.yelp.com/v3/businesses/search?location=New+York%2C+NY&term=Burger&offset=1000\n",
      "an error occured 400 Client Error: Bad Request for url: https://api.yelp.com/v3/businesses/search?location=New+York%2C+NY&term=Burger&offset=1000\n",
      "an error occured 400 Client Error: Bad Request for url: https://api.yelp.com/v3/businesses/search?location=New+York%2C+NY&term=Burger&offset=1000\n",
      "an error occured 400 Client Error: Bad Request for url: https://api.yelp.com/v3/businesses/search?location=New+York%2C+NY&term=Burger&offset=1000\n",
      "an error occured 400 Client Error: Bad Request for url: https://api.yelp.com/v3/businesses/search?location=New+York%2C+NY&term=Burger&offset=1000\n",
      "an error occured 400 Client Error: Bad Request for url: https://api.yelp.com/v3/businesses/search?location=New+York%2C+NY&term=Burger&offset=1000\n",
      "an error occured 400 Client Error: Bad Request for url: https://api.yelp.com/v3/businesses/search?location=New+York%2C+NY&term=Burger&offset=1000\n",
      "an error occured 400 Client Error: Bad Request for url: https://api.yelp.com/v3/businesses/search?location=New+York%2C+NY&term=Burger&offset=1000\n",
      "an error occured 400 Client Error: Bad Request for url: https://api.yelp.com/v3/businesses/search?location=New+York%2C+NY&term=Burger&offset=1000\n",
      "an error occured 400 Client Error: Bad Request for url: https://api.yelp.com/v3/businesses/search?location=New+York%2C+NY&term=Burger&offset=1000\n",
      "an error occured 400 Client Error: Bad Request for url: https://api.yelp.com/v3/businesses/search?location=New+York%2C+NY&term=Burger&offset=1000\n",
      "an error occured 400 Client Error: Bad Request for url: https://api.yelp.com/v3/businesses/search?location=New+York%2C+NY&term=Burger&offset=1000\n",
      "an error occured 400 Client Error: Bad Request for url: https://api.yelp.com/v3/businesses/search?location=New+York%2C+NY&term=Burger&offset=1000\n",
      "an error occured 400 Client Error: Bad Request for url: https://api.yelp.com/v3/businesses/search?location=New+York%2C+NY&term=Burger&offset=1000\n",
      "an error occured 400 Client Error: Bad Request for url: https://api.yelp.com/v3/businesses/search?location=New+York%2C+NY&term=Burger&offset=1000\n",
      "an error occured 400 Client Error: Bad Request for url: https://api.yelp.com/v3/businesses/search?location=New+York%2C+NY&term=Burger&offset=1000\n",
      "an error occured 400 Client Error: Bad Request for url: https://api.yelp.com/v3/businesses/search?location=New+York%2C+NY&term=Burger&offset=1000\n",
      "an error occured 400 Client Error: Bad Request for url: https://api.yelp.com/v3/businesses/search?location=New+York%2C+NY&term=Burger&offset=1000\n",
      "an error occured 400 Client Error: Bad Request for url: https://api.yelp.com/v3/businesses/search?location=New+York%2C+NY&term=Burger&offset=1000\n",
      "an error occured 400 Client Error: Bad Request for url: https://api.yelp.com/v3/businesses/search?location=New+York%2C+NY&term=Burger&offset=1000\n",
      "an error occured 400 Client Error: Bad Request for url: https://api.yelp.com/v3/businesses/search?location=New+York%2C+NY&term=Burger&offset=1000\n",
      "an error occured 400 Client Error: Bad Request for url: https://api.yelp.com/v3/businesses/search?location=New+York%2C+NY&term=Burger&offset=1000\n",
      "an error occured 400 Client Error: Bad Request for url: https://api.yelp.com/v3/businesses/search?location=New+York%2C+NY&term=Burger&offset=1000\n",
      "an error occured 400 Client Error: Bad Request for url: https://api.yelp.com/v3/businesses/search?location=New+York%2C+NY&term=Burger&offset=1000\n",
      "an error occured 400 Client Error: Bad Request for url: https://api.yelp.com/v3/businesses/search?location=New+York%2C+NY&term=Burger&offset=1000\n",
      "an error occured 400 Client Error: Bad Request for url: https://api.yelp.com/v3/businesses/search?location=New+York%2C+NY&term=Burger&offset=1000\n",
      "an error occured 400 Client Error: Bad Request for url: https://api.yelp.com/v3/businesses/search?location=New+York%2C+NY&term=Burger&offset=1000\n",
      "an error occured 400 Client Error: Bad Request for url: https://api.yelp.com/v3/businesses/search?location=New+York%2C+NY&term=Burger&offset=1000\n",
      "an error occured 400 Client Error: Bad Request for url: https://api.yelp.com/v3/businesses/search?location=New+York%2C+NY&term=Burger&offset=1000\n",
      "an error occured 400 Client Error: Bad Request for url: https://api.yelp.com/v3/businesses/search?location=New+York%2C+NY&term=Burger&offset=1000\n",
      "Rate limit exceeded. Stop data collection.\n"
     ]
    }
   ],
   "source": [
    "for i in tqdm_notebook(range(1, n_pages + 1)):\n",
    "\n",
    "    ## The block of code we want to TRY to run\n",
    "    try:        \n",
    "        # Introduce a short delay to respect API rate limits\n",
    "        time.sleep(0.2)\n",
    "        \n",
    "        ## Read in results in progress file and check the length\n",
    "        with open(JSON_FILE, 'r') as file:\n",
    "            previous_results = json.load(file)\n",
    "        \n",
    "        ## Save number of results to use as offset\n",
    "        n_results = len(previous_results)\n",
    "        \n",
    "        ## Use n_results as the OFFSET \n",
    "        results = yelp_api.search_query(location = LOCATION,\n",
    "                                        term = TERM,\n",
    "                                        offset = len(previous_results))\n",
    "\n",
    "        ## Append new results and save to file\n",
    "        previous_results.extend(results['businesses'])\n",
    "        with open(JSON_FILE, 'w') as file:\n",
    "            json.dump(previous_results, file)\n",
    "\n",
    "            \n",
    "## What to do if we get an error/exception.\n",
    "    except Exception as e:\n",
    "        # check if we are at rate limit\n",
    "        if 'Too Many Requests for url' in str(e):\n",
    "            print('Rate limit exceeded. Stop data collection.')\n",
    "            break\n",
    "        else:\n",
    "            print(f'an error occured {e}')\n",
    "            # optionally handle error differently\n",
    "            continue"
   ]
  },
  {
   "cell_type": "code",
   "execution_count": null,
   "id": "ec651afe",
   "metadata": {},
   "outputs": [],
   "source": []
  },
  {
   "cell_type": "code",
   "execution_count": null,
   "id": "b94e2646",
   "metadata": {},
   "outputs": [],
   "source": []
  },
  {
   "cell_type": "code",
   "execution_count": null,
   "id": "e9998869",
   "metadata": {},
   "outputs": [],
   "source": []
  },
  {
   "cell_type": "code",
   "execution_count": null,
   "id": "87d0938f",
   "metadata": {},
   "outputs": [],
   "source": []
  },
  {
   "cell_type": "code",
   "execution_count": null,
   "id": "e4450fae",
   "metadata": {},
   "outputs": [],
   "source": [
    "results = yelp_api.search_query(location='New York, NY',\n",
    "                                       term='Burger')\n",
    "print(type(results))\n",
    "results.keys()"
   ]
  },
  {
   "cell_type": "code",
   "execution_count": null,
   "id": "957b3a62",
   "metadata": {},
   "outputs": [],
   "source": [
    "pizza = pd.DataFrame(results['businesses'])\n",
    "pizza.head(2) "
   ]
  },
  {
   "cell_type": "code",
   "execution_count": null,
   "id": "e7ccacc9",
   "metadata": {},
   "outputs": [],
   "source": [
    "## total number of matching businesses\n",
    "results['total']"
   ]
  },
  {
   "cell_type": "code",
   "execution_count": null,
   "id": "d1991d9b",
   "metadata": {},
   "outputs": [],
   "source": [
    "## how many businesses in our results\n",
    "len(results['businesses'])"
   ]
  },
  {
   "cell_type": "code",
   "execution_count": null,
   "id": "2c9ec574",
   "metadata": {},
   "outputs": [],
   "source": [
    "# add offset to our original api call\n",
    "results = yelp_api.search_query(location='New York, NY',\n",
    "                                       term='Pizza',\n",
    "                                       offset = 20)"
   ]
  },
  {
   "cell_type": "code",
   "execution_count": null,
   "id": "a89e8e70",
   "metadata": {},
   "outputs": [],
   "source": [
    "pizza20 = pd.DataFrame(results['businesses'])\n",
    "pizza20.head(2)"
   ]
  },
  {
   "cell_type": "code",
   "execution_count": null,
   "id": "f02b2499",
   "metadata": {},
   "outputs": [],
   "source": [
    "## concatenate the previous results and new results. \n",
    "results_pizza = pd.concat([pizza, pizza20],\n",
    "                      ignore_index=True)\n",
    "display(results_pizza.head(3), results_pizza.tail(3))"
   ]
  },
  {
   "cell_type": "code",
   "execution_count": null,
   "id": "a74c9317",
   "metadata": {},
   "outputs": [],
   "source": [
    "# Specify directory and filename\n",
    "directory = 'Data'\n",
    "\n",
    "# Ensure that the 'Data' directory exists\n",
    "os.makedirs(directory, exist_ok = True)"
   ]
  },
  {
   "cell_type": "code",
   "execution_count": null,
   "id": "bd4bf438",
   "metadata": {},
   "outputs": [],
   "source": [
    "# save the results to records-style json file\n",
    "results_pizza.to_json(\"Data/yelp-search-new-york-pizza.json\", orient='records')"
   ]
  }
 ],
 "metadata": {
  "kernelspec": {
   "display_name": "Python (dojo-env)",
   "language": "python",
   "name": "dojo-env"
  },
  "language_info": {
   "codemirror_mode": {
    "name": "ipython",
    "version": 3
   },
   "file_extension": ".py",
   "mimetype": "text/x-python",
   "name": "python",
   "nbconvert_exporter": "python",
   "pygments_lexer": "ipython3",
   "version": "3.11.5"
  }
 },
 "nbformat": 4,
 "nbformat_minor": 5
}
