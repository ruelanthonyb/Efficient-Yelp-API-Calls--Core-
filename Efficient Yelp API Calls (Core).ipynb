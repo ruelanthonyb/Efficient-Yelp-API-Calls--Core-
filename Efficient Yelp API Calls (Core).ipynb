{
 "cells": [
  {
   "cell_type": "markdown",
   "id": "5cef9a41",
   "metadata": {},
   "source": [
    "## Efficient Yelp API Calls (Core)\n",
    "For this assignment, you will be working with the Yelp API.\n",
    "\n",
    "As before, you will use the Yelp API to search your favorite city for a cuisine type of your choice.\n",
    "\n",
    "Extract all of the results from your search and compile them into one dataframe using a for loop as shown in the lesson \"Code for Efficient API Extraction\"\n",
    "\n",
    "Save your notebook, commit the change to your repository and submit the repository URL for this assignment."
   ]
  },
  {
   "cell_type": "code",
   "execution_count": 1,
   "id": "7de376b1",
   "metadata": {},
   "outputs": [],
   "source": [
    "# Standard Imports\n",
    "import numpy as np\n",
    "import pandas as pd\n",
    "import matplotlib.pyplot as plt\n",
    "import seaborn as sns\n",
    "# Additional Imports\n",
    "import os, json, math, time\n",
    "from yelpapi import YelpAPI\n",
    "from tqdm.notebook import tqdm_notebook"
   ]
  },
  {
   "cell_type": "markdown",
   "id": "f2ee6dab",
   "metadata": {},
   "source": [
    "### Load Credentials and Create Yelp API Object"
   ]
  },
  {
   "cell_type": "code",
   "execution_count": 2,
   "id": "00a39b75",
   "metadata": {},
   "outputs": [
    {
     "data": {
      "text/plain": [
       "dict_keys(['client-id', 'api-key'])"
      ]
     },
     "execution_count": 2,
     "metadata": {},
     "output_type": "execute_result"
    }
   ],
   "source": [
    "# Load API Credentials\n",
    "with open(r\"C:\\Users\\bandi\\.secret\\yelp_api.json\") as f:\n",
    "    login = json.load(f)\n",
    "login.keys()"
   ]
  },
  {
   "cell_type": "code",
   "execution_count": 3,
   "id": "0c9536c1",
   "metadata": {},
   "outputs": [
    {
     "data": {
      "text/plain": [
       "<yelpapi.yelpapi.YelpAPI at 0x29f512e1510>"
      ]
     },
     "execution_count": 3,
     "metadata": {},
     "output_type": "execute_result"
    }
   ],
   "source": [
    "# Instantiate YelpAPI Variable\n",
    "yelp_api = YelpAPI(login['api-key'], timeout_s = 5.0)\n",
    "yelp_api"
   ]
  },
  {
   "cell_type": "markdown",
   "id": "21b8c86c",
   "metadata": {},
   "source": [
    "### Define Search and File Paths"
   ]
  },
  {
   "cell_type": "code",
   "execution_count": 16,
   "id": "a69bde0a",
   "metadata": {},
   "outputs": [],
   "source": [
    "# set our API call parameters \n",
    "LOCATION = 'Baltimore, MD'\n",
    "TERM = 'Ramen'"
   ]
  },
  {
   "cell_type": "code",
   "execution_count": 17,
   "id": "a9767097",
   "metadata": {},
   "outputs": [
    {
     "data": {
      "text/plain": [
       "'Data/results_MD_ramen.json'"
      ]
     },
     "execution_count": 17,
     "metadata": {},
     "output_type": "execute_result"
    }
   ],
   "source": [
    "# Name the file to save results\n",
    "JSON_FILE = \"Data/results_MD_ramen.json\"\n",
    "JSON_FILE"
   ]
  },
  {
   "cell_type": "markdown",
   "id": "aed99b28",
   "metadata": {},
   "source": [
    "### Check if Json File exists and Create it if it doesn't"
   ]
  },
  {
   "cell_type": "code",
   "execution_count": 18,
   "id": "a11d98e1",
   "metadata": {},
   "outputs": [
    {
     "name": "stdout",
     "output_type": "stream",
     "text": [
      "[i] Data/results_MD_ramen.json not found. Saving empty list to file.\n"
     ]
    }
   ],
   "source": [
    "## Check if JSON_FILE exists\n",
    "file_exists = os.path.isfile(JSON_FILE)\n",
    "\n",
    "## If it does not exist: \n",
    "if file_exists == False:\n",
    "    \n",
    "    ## CREATE ANY NEEDED FOLDERS\n",
    "    # Get the Folder Name only\n",
    "    folder = os.path.dirname(JSON_FILE)\n",
    "    \n",
    "    ## If JSON_FILE included a folder:\n",
    "    if len(folder)>0:\n",
    "        # create the folder\n",
    "        os.makedirs(folder,exist_ok=True)\n",
    "        \n",
    "        \n",
    "    ## INFORM USER AND SAVE EMPTY LIST\n",
    "    print(f'[i] {JSON_FILE} not found. Saving empty list to file.')\n",
    "    \n",
    "    \n",
    "    # save an empty list\n",
    "    with open(JSON_FILE,'w') as f:\n",
    "        json.dump([],f) \n",
    "        \n",
    "# If it exists, inform user\n",
    "else:\n",
    "    print(f\"[i] {JSON_FILE} already exists.\")"
   ]
  },
  {
   "cell_type": "markdown",
   "id": "3eebddde",
   "metadata": {},
   "source": [
    "### Load JSON FIle and account for previous results"
   ]
  },
  {
   "cell_type": "code",
   "execution_count": 19,
   "id": "fd6a9c6a",
   "metadata": {},
   "outputs": [
    {
     "name": "stdout",
     "output_type": "stream",
     "text": [
      "- 0 previous results found.\n"
     ]
    }
   ],
   "source": [
    "## Load previous results and use len of results for offset\n",
    "with open(JSON_FILE,'r') as f:\n",
    "    previous_results = json.load(f)\n",
    "    \n",
    "## set offset based on previous results\n",
    "n_results = len(previous_results)\n",
    "print(f'- {n_results} previous results found.')"
   ]
  },
  {
   "cell_type": "markdown",
   "id": "ce2a0021",
   "metadata": {},
   "source": [
    "### Figure out how many pages of results we will need"
   ]
  },
  {
   "cell_type": "code",
   "execution_count": 20,
   "id": "8431b3e0",
   "metadata": {},
   "outputs": [
    {
     "data": {
      "text/plain": [
       "dict_keys(['businesses', 'total', 'region'])"
      ]
     },
     "execution_count": 20,
     "metadata": {},
     "output_type": "execute_result"
    }
   ],
   "source": [
    "# use our yelp_api variable's search_query method to perform our API call\n",
    "results = yelp_api.search_query(location=LOCATION,\n",
    "                                term=TERM,\n",
    "                               offset=n_results)\n",
    "results.keys()"
   ]
  },
  {
   "cell_type": "code",
   "execution_count": 21,
   "id": "e6f71a78",
   "metadata": {},
   "outputs": [
    {
     "data": {
      "text/plain": [
       "148"
      ]
     },
     "execution_count": 21,
     "metadata": {},
     "output_type": "execute_result"
    }
   ],
   "source": [
    "## How many results total?\n",
    "total_results = results['total']\n",
    "total_results"
   ]
  },
  {
   "cell_type": "code",
   "execution_count": 22,
   "id": "0ad429ef",
   "metadata": {},
   "outputs": [
    {
     "data": {
      "text/plain": [
       "20"
      ]
     },
     "execution_count": 22,
     "metadata": {},
     "output_type": "execute_result"
    }
   ],
   "source": [
    "## How many did we get the details for?\n",
    "results_per_page = len(results['businesses'])\n",
    "results_per_page"
   ]
  },
  {
   "cell_type": "code",
   "execution_count": 23,
   "id": "8aaef57a",
   "metadata": {},
   "outputs": [
    {
     "data": {
      "text/plain": [
       "8"
      ]
     },
     "execution_count": 23,
     "metadata": {},
     "output_type": "execute_result"
    }
   ],
   "source": [
    "# Use math.ceil to round up for the total number of pages of results.\n",
    "n_pages = math.ceil((total_results - n_results) / results_per_page)\n",
    "n_pages"
   ]
  },
  {
   "cell_type": "markdown",
   "id": "dcb95a36",
   "metadata": {},
   "source": [
    "### Add this page of results to .json file"
   ]
  },
  {
   "cell_type": "code",
   "execution_count": 24,
   "id": "f933d50b",
   "metadata": {},
   "outputs": [],
   "source": [
    "# join new results with old list with extend and save to file\n",
    "previous_results.extend(results['businesses'])  \n",
    "with open(JSON_FILE,'w') as f:\n",
    "     json.dump(previous_results,f,indent = 4)"
   ]
  },
  {
   "cell_type": "markdown",
   "id": "d36a8ea0",
   "metadata": {},
   "source": [
    "### For Loop to call each page"
   ]
  },
  {
   "cell_type": "code",
   "execution_count": 25,
   "id": "6155696c",
   "metadata": {},
   "outputs": [
    {
     "data": {
      "application/vnd.jupyter.widget-view+json": {
       "model_id": "ec4e7a6e898144be8d6568b904079e7e",
       "version_major": 2,
       "version_minor": 0
      },
      "text/plain": [
       "  0%|          | 0/8 [00:00<?, ?it/s]"
      ]
     },
     "metadata": {},
     "output_type": "display_data"
    }
   ],
   "source": [
    "for i in tqdm_notebook(range(1, n_pages + 1)):\n",
    "\n",
    "    ## The block of code we want to TRY to run\n",
    "    try:        \n",
    "        # Introduce a short delay to respect API rate limits\n",
    "        time.sleep(0.2)\n",
    "        \n",
    "        ## Read in results in progress file and check the length\n",
    "        with open(JSON_FILE, 'r') as file:\n",
    "            previous_results = json.load(file)\n",
    "        \n",
    "        ## Save number of results to use as offset\n",
    "        n_results = len(previous_results)\n",
    "        \n",
    "        ## Use n_results as the OFFSET \n",
    "        results = yelp_api.search_query(location = LOCATION,\n",
    "                                        term = TERM,\n",
    "                                        offset = len(previous_results))\n",
    "\n",
    "        ## Append new results and save to file\n",
    "        previous_results.extend(results['businesses'])\n",
    "        with open(JSON_FILE, 'w') as file:\n",
    "            json.dump(previous_results, file)\n",
    "\n",
    "            \n",
    "## What to do if we get an error/exception.\n",
    "    except Exception as e:\n",
    "        # check if we are at rate limit\n",
    "        if 'Too Many Requests for url' in str(e):\n",
    "            print('Rate limit exceeded. Stop data collection.')\n",
    "            break\n",
    "        else:\n",
    "            print(f'an error occured {e}')\n",
    "            # optionally handle error differently\n",
    "            continue"
   ]
  },
  {
   "cell_type": "code",
   "execution_count": 26,
   "id": "ec651afe",
   "metadata": {},
   "outputs": [
    {
     "data": {
      "text/html": [
       "<div>\n",
       "<style scoped>\n",
       "    .dataframe tbody tr th:only-of-type {\n",
       "        vertical-align: middle;\n",
       "    }\n",
       "\n",
       "    .dataframe tbody tr th {\n",
       "        vertical-align: top;\n",
       "    }\n",
       "\n",
       "    .dataframe thead th {\n",
       "        text-align: right;\n",
       "    }\n",
       "</style>\n",
       "<table border=\"1\" class=\"dataframe\">\n",
       "  <thead>\n",
       "    <tr style=\"text-align: right;\">\n",
       "      <th></th>\n",
       "      <th>id</th>\n",
       "      <th>alias</th>\n",
       "      <th>name</th>\n",
       "      <th>image_url</th>\n",
       "      <th>is_closed</th>\n",
       "      <th>url</th>\n",
       "      <th>review_count</th>\n",
       "      <th>categories</th>\n",
       "      <th>rating</th>\n",
       "      <th>coordinates</th>\n",
       "      <th>transactions</th>\n",
       "      <th>price</th>\n",
       "      <th>location</th>\n",
       "      <th>phone</th>\n",
       "      <th>display_phone</th>\n",
       "      <th>distance</th>\n",
       "    </tr>\n",
       "  </thead>\n",
       "  <tbody>\n",
       "    <tr>\n",
       "      <th>0</th>\n",
       "      <td>X19jig0ubkRVdHdOup5onQ</td>\n",
       "      <td>ramen-utsuke-baltimore-2</td>\n",
       "      <td>Ramen Utsuke</td>\n",
       "      <td>https://s3-media2.fl.yelpcdn.com/bphoto/BLOd7q...</td>\n",
       "      <td>False</td>\n",
       "      <td>https://www.yelp.com/biz/ramen-utsuke-baltimor...</td>\n",
       "      <td>463</td>\n",
       "      <td>[{'alias': 'ramen', 'title': 'Ramen'}]</td>\n",
       "      <td>4.4</td>\n",
       "      <td>{'latitude': 39.28356027844324, 'longitude': -...</td>\n",
       "      <td>[pickup, delivery]</td>\n",
       "      <td>$$</td>\n",
       "      <td>{'address1': '414 Light St', 'address2': 'Ste ...</td>\n",
       "      <td>+14435632977</td>\n",
       "      <td>(443) 563-2977</td>\n",
       "      <td>2886.661832</td>\n",
       "    </tr>\n",
       "    <tr>\n",
       "      <th>1</th>\n",
       "      <td>JY72TrhFESLIJsXz5Na_iA</td>\n",
       "      <td>toki-underground-baltimore</td>\n",
       "      <td>Toki Underground</td>\n",
       "      <td>https://s3-media4.fl.yelpcdn.com/bphoto/8JPqZh...</td>\n",
       "      <td>False</td>\n",
       "      <td>https://www.yelp.com/biz/toki-underground-balt...</td>\n",
       "      <td>80</td>\n",
       "      <td>[{'alias': 'ramen', 'title': 'Ramen'}, {'alias...</td>\n",
       "      <td>4.5</td>\n",
       "      <td>{'latitude': 39.321619, 'longitude': -76.609174}</td>\n",
       "      <td>[delivery, restaurant_reservation, pickup]</td>\n",
       "      <td>$$</td>\n",
       "      <td>{'address1': '2731 Greenmount Ave', 'address2'...</td>\n",
       "      <td>+14434495392</td>\n",
       "      <td>(443) 449-5392</td>\n",
       "      <td>1370.557673</td>\n",
       "    </tr>\n",
       "    <tr>\n",
       "      <th>2</th>\n",
       "      <td>wwfTFc9B_cKGE0sg-_533A</td>\n",
       "      <td>kippo-ramen-baltimore</td>\n",
       "      <td>Kippo Ramen</td>\n",
       "      <td>https://s3-media2.fl.yelpcdn.com/bphoto/RXcalJ...</td>\n",
       "      <td>False</td>\n",
       "      <td>https://www.yelp.com/biz/kippo-ramen-baltimore...</td>\n",
       "      <td>680</td>\n",
       "      <td>[{'alias': 'ramen', 'title': 'Ramen'}, {'alias...</td>\n",
       "      <td>4.4</td>\n",
       "      <td>{'latitude': 39.2841531081, 'longitude': -76.5...</td>\n",
       "      <td>[pickup, delivery]</td>\n",
       "      <td>$$</td>\n",
       "      <td>{'address1': '606 S Bdwy', 'address2': '', 'ad...</td>\n",
       "      <td>+16672124841</td>\n",
       "      <td>(667) 212-4841</td>\n",
       "      <td>3094.473885</td>\n",
       "    </tr>\n",
       "    <tr>\n",
       "      <th>3</th>\n",
       "      <td>B82cpig_hNiBsM77tXMQmA</td>\n",
       "      <td>kajiken-baltimore</td>\n",
       "      <td>Kajiken</td>\n",
       "      <td>https://s3-media3.fl.yelpcdn.com/bphoto/DBalZZ...</td>\n",
       "      <td>False</td>\n",
       "      <td>https://www.yelp.com/biz/kajiken-baltimore?adj...</td>\n",
       "      <td>92</td>\n",
       "      <td>[{'alias': 'ramen', 'title': 'Ramen'}]</td>\n",
       "      <td>4.5</td>\n",
       "      <td>{'latitude': 39.327879, 'longitude': -76.616392}</td>\n",
       "      <td>[]</td>\n",
       "      <td>NaN</td>\n",
       "      <td>{'address1': '7 E 33rd St', 'address2': '', 'a...</td>\n",
       "      <td>+14438354617</td>\n",
       "      <td>(443) 835-4617</td>\n",
       "      <td>2167.559287</td>\n",
       "    </tr>\n",
       "    <tr>\n",
       "      <th>4</th>\n",
       "      <td>6Pgn8ON83YE-cTPoOMCm-A</td>\n",
       "      <td>dashi-ramen-baltimore</td>\n",
       "      <td>Dashi Ramen</td>\n",
       "      <td>https://s3-media1.fl.yelpcdn.com/bphoto/9nkZpt...</td>\n",
       "      <td>False</td>\n",
       "      <td>https://www.yelp.com/biz/dashi-ramen-baltimore...</td>\n",
       "      <td>8</td>\n",
       "      <td>[{'alias': 'ramen', 'title': 'Ramen'}, {'alias...</td>\n",
       "      <td>5.0</td>\n",
       "      <td>{'latitude': 39.2768302386569, 'longitude': -7...</td>\n",
       "      <td>[pickup, delivery]</td>\n",
       "      <td>NaN</td>\n",
       "      <td>{'address1': '1065 S Charles St', 'address2': ...</td>\n",
       "      <td>+13016511349</td>\n",
       "      <td>(301) 651-1349</td>\n",
       "      <td>3627.044772</td>\n",
       "    </tr>\n",
       "  </tbody>\n",
       "</table>\n",
       "</div>"
      ],
      "text/plain": [
       "                       id                       alias              name  \\\n",
       "0  X19jig0ubkRVdHdOup5onQ    ramen-utsuke-baltimore-2      Ramen Utsuke   \n",
       "1  JY72TrhFESLIJsXz5Na_iA  toki-underground-baltimore  Toki Underground   \n",
       "2  wwfTFc9B_cKGE0sg-_533A       kippo-ramen-baltimore       Kippo Ramen   \n",
       "3  B82cpig_hNiBsM77tXMQmA           kajiken-baltimore           Kajiken   \n",
       "4  6Pgn8ON83YE-cTPoOMCm-A       dashi-ramen-baltimore       Dashi Ramen   \n",
       "\n",
       "                                           image_url  is_closed  \\\n",
       "0  https://s3-media2.fl.yelpcdn.com/bphoto/BLOd7q...      False   \n",
       "1  https://s3-media4.fl.yelpcdn.com/bphoto/8JPqZh...      False   \n",
       "2  https://s3-media2.fl.yelpcdn.com/bphoto/RXcalJ...      False   \n",
       "3  https://s3-media3.fl.yelpcdn.com/bphoto/DBalZZ...      False   \n",
       "4  https://s3-media1.fl.yelpcdn.com/bphoto/9nkZpt...      False   \n",
       "\n",
       "                                                 url  review_count  \\\n",
       "0  https://www.yelp.com/biz/ramen-utsuke-baltimor...           463   \n",
       "1  https://www.yelp.com/biz/toki-underground-balt...            80   \n",
       "2  https://www.yelp.com/biz/kippo-ramen-baltimore...           680   \n",
       "3  https://www.yelp.com/biz/kajiken-baltimore?adj...            92   \n",
       "4  https://www.yelp.com/biz/dashi-ramen-baltimore...             8   \n",
       "\n",
       "                                          categories  rating  \\\n",
       "0             [{'alias': 'ramen', 'title': 'Ramen'}]     4.4   \n",
       "1  [{'alias': 'ramen', 'title': 'Ramen'}, {'alias...     4.5   \n",
       "2  [{'alias': 'ramen', 'title': 'Ramen'}, {'alias...     4.4   \n",
       "3             [{'alias': 'ramen', 'title': 'Ramen'}]     4.5   \n",
       "4  [{'alias': 'ramen', 'title': 'Ramen'}, {'alias...     5.0   \n",
       "\n",
       "                                         coordinates  \\\n",
       "0  {'latitude': 39.28356027844324, 'longitude': -...   \n",
       "1   {'latitude': 39.321619, 'longitude': -76.609174}   \n",
       "2  {'latitude': 39.2841531081, 'longitude': -76.5...   \n",
       "3   {'latitude': 39.327879, 'longitude': -76.616392}   \n",
       "4  {'latitude': 39.2768302386569, 'longitude': -7...   \n",
       "\n",
       "                                 transactions price  \\\n",
       "0                          [pickup, delivery]    $$   \n",
       "1  [delivery, restaurant_reservation, pickup]    $$   \n",
       "2                          [pickup, delivery]    $$   \n",
       "3                                          []   NaN   \n",
       "4                          [pickup, delivery]   NaN   \n",
       "\n",
       "                                            location         phone  \\\n",
       "0  {'address1': '414 Light St', 'address2': 'Ste ...  +14435632977   \n",
       "1  {'address1': '2731 Greenmount Ave', 'address2'...  +14434495392   \n",
       "2  {'address1': '606 S Bdwy', 'address2': '', 'ad...  +16672124841   \n",
       "3  {'address1': '7 E 33rd St', 'address2': '', 'a...  +14438354617   \n",
       "4  {'address1': '1065 S Charles St', 'address2': ...  +13016511349   \n",
       "\n",
       "    display_phone     distance  \n",
       "0  (443) 563-2977  2886.661832  \n",
       "1  (443) 449-5392  1370.557673  \n",
       "2  (667) 212-4841  3094.473885  \n",
       "3  (443) 835-4617  2167.559287  \n",
       "4  (301) 651-1349  3627.044772  "
      ]
     },
     "metadata": {},
     "output_type": "display_data"
    },
    {
     "data": {
      "text/html": [
       "<div>\n",
       "<style scoped>\n",
       "    .dataframe tbody tr th:only-of-type {\n",
       "        vertical-align: middle;\n",
       "    }\n",
       "\n",
       "    .dataframe tbody tr th {\n",
       "        vertical-align: top;\n",
       "    }\n",
       "\n",
       "    .dataframe thead th {\n",
       "        text-align: right;\n",
       "    }\n",
       "</style>\n",
       "<table border=\"1\" class=\"dataframe\">\n",
       "  <thead>\n",
       "    <tr style=\"text-align: right;\">\n",
       "      <th></th>\n",
       "      <th>id</th>\n",
       "      <th>alias</th>\n",
       "      <th>name</th>\n",
       "      <th>image_url</th>\n",
       "      <th>is_closed</th>\n",
       "      <th>url</th>\n",
       "      <th>review_count</th>\n",
       "      <th>categories</th>\n",
       "      <th>rating</th>\n",
       "      <th>coordinates</th>\n",
       "      <th>transactions</th>\n",
       "      <th>price</th>\n",
       "      <th>location</th>\n",
       "      <th>phone</th>\n",
       "      <th>display_phone</th>\n",
       "      <th>distance</th>\n",
       "    </tr>\n",
       "  </thead>\n",
       "  <tbody>\n",
       "    <tr>\n",
       "      <th>143</th>\n",
       "      <td>Wq8jJ1X-L36OiV4seDkaYw</td>\n",
       "      <td>7-eleven-baltimore-26</td>\n",
       "      <td>7-Eleven</td>\n",
       "      <td>https://s3-media4.fl.yelpcdn.com/bphoto/nEnF7P...</td>\n",
       "      <td>False</td>\n",
       "      <td>https://www.yelp.com/biz/7-eleven-baltimore-26...</td>\n",
       "      <td>5</td>\n",
       "      <td>[{'alias': 'convenience', 'title': 'Convenienc...</td>\n",
       "      <td>2.6</td>\n",
       "      <td>{'latitude': 39.2938614405871, 'longitude': -7...</td>\n",
       "      <td>[delivery, pickup]</td>\n",
       "      <td>$</td>\n",
       "      <td>{'address1': '1114 Ingleside Av', 'address2': ...</td>\n",
       "      <td>+14107475399</td>\n",
       "      <td>(410) 747-5399</td>\n",
       "      <td>10581.370033</td>\n",
       "    </tr>\n",
       "    <tr>\n",
       "      <th>144</th>\n",
       "      <td>pGPugxXaBn4_7e2eUY4VPA</td>\n",
       "      <td>7-eleven-catonsville-3</td>\n",
       "      <td>7-Eleven</td>\n",
       "      <td>https://s3-media1.fl.yelpcdn.com/bphoto/0YmU27...</td>\n",
       "      <td>False</td>\n",
       "      <td>https://www.yelp.com/biz/7-eleven-catonsville-...</td>\n",
       "      <td>4</td>\n",
       "      <td>[{'alias': 'convenience', 'title': 'Convenienc...</td>\n",
       "      <td>2.8</td>\n",
       "      <td>{'latitude': 39.2731536, 'longitude': -76.7526...</td>\n",
       "      <td>[delivery, pickup]</td>\n",
       "      <td>$</td>\n",
       "      <td>{'address1': '1611 Edmondson Ave', 'address2':...</td>\n",
       "      <td>+14107884441</td>\n",
       "      <td>(410) 788-4441</td>\n",
       "      <td>12996.726394</td>\n",
       "    </tr>\n",
       "    <tr>\n",
       "      <th>145</th>\n",
       "      <td>plLY3F-oTVirLV8uerZOXQ</td>\n",
       "      <td>7-eleven-elkridge-3</td>\n",
       "      <td>7-Eleven</td>\n",
       "      <td></td>\n",
       "      <td>False</td>\n",
       "      <td>https://www.yelp.com/biz/7-eleven-elkridge-3?a...</td>\n",
       "      <td>1</td>\n",
       "      <td>[{'alias': 'convenience', 'title': 'Convenienc...</td>\n",
       "      <td>1.0</td>\n",
       "      <td>{'latitude': 39.188869663407, 'longitude': -76...</td>\n",
       "      <td>[delivery, pickup]</td>\n",
       "      <td>$</td>\n",
       "      <td>{'address1': '6590 Old Waterloo Rd', 'address2...</td>\n",
       "      <td>+14107995169</td>\n",
       "      <td>(410) 799-5169</td>\n",
       "      <td>20717.875905</td>\n",
       "    </tr>\n",
       "    <tr>\n",
       "      <th>146</th>\n",
       "      <td>f_5JsfzbjkQPWoIaI6hvOw</td>\n",
       "      <td>7-eleven-towson</td>\n",
       "      <td>7-Eleven</td>\n",
       "      <td></td>\n",
       "      <td>False</td>\n",
       "      <td>https://www.yelp.com/biz/7-eleven-towson?adjus...</td>\n",
       "      <td>6</td>\n",
       "      <td>[{'alias': 'convenience', 'title': 'Convenienc...</td>\n",
       "      <td>2.0</td>\n",
       "      <td>{'latitude': 39.3992867255242, 'longitude': -7...</td>\n",
       "      <td>[delivery]</td>\n",
       "      <td>$</td>\n",
       "      <td>{'address1': '321 York Rd', 'address2': '', 'a...</td>\n",
       "      <td>+14108232461</td>\n",
       "      <td>(410) 823-2461</td>\n",
       "      <td>10021.418156</td>\n",
       "    </tr>\n",
       "    <tr>\n",
       "      <th>147</th>\n",
       "      <td>e4aPVutSt5Y5rZa-v2-TvA</td>\n",
       "      <td>7-eleven-hanover</td>\n",
       "      <td>7-Eleven</td>\n",
       "      <td>https://s3-media2.fl.yelpcdn.com/bphoto/qX8afF...</td>\n",
       "      <td>False</td>\n",
       "      <td>https://www.yelp.com/biz/7-eleven-hanover?adju...</td>\n",
       "      <td>3</td>\n",
       "      <td>[{'alias': 'convenience', 'title': 'Convenienc...</td>\n",
       "      <td>3.0</td>\n",
       "      <td>{'latitude': 39.1588731637158, 'longitude': -7...</td>\n",
       "      <td>[delivery, pickup]</td>\n",
       "      <td>$</td>\n",
       "      <td>{'address1': '1401 Dorsey Rd', 'address2': '',...</td>\n",
       "      <td>+14108595730</td>\n",
       "      <td>(410) 859-5730</td>\n",
       "      <td>19025.149138</td>\n",
       "    </tr>\n",
       "  </tbody>\n",
       "</table>\n",
       "</div>"
      ],
      "text/plain": [
       "                         id                   alias      name  \\\n",
       "143  Wq8jJ1X-L36OiV4seDkaYw   7-eleven-baltimore-26  7-Eleven   \n",
       "144  pGPugxXaBn4_7e2eUY4VPA  7-eleven-catonsville-3  7-Eleven   \n",
       "145  plLY3F-oTVirLV8uerZOXQ     7-eleven-elkridge-3  7-Eleven   \n",
       "146  f_5JsfzbjkQPWoIaI6hvOw         7-eleven-towson  7-Eleven   \n",
       "147  e4aPVutSt5Y5rZa-v2-TvA        7-eleven-hanover  7-Eleven   \n",
       "\n",
       "                                             image_url  is_closed  \\\n",
       "143  https://s3-media4.fl.yelpcdn.com/bphoto/nEnF7P...      False   \n",
       "144  https://s3-media1.fl.yelpcdn.com/bphoto/0YmU27...      False   \n",
       "145                                                         False   \n",
       "146                                                         False   \n",
       "147  https://s3-media2.fl.yelpcdn.com/bphoto/qX8afF...      False   \n",
       "\n",
       "                                                   url  review_count  \\\n",
       "143  https://www.yelp.com/biz/7-eleven-baltimore-26...             5   \n",
       "144  https://www.yelp.com/biz/7-eleven-catonsville-...             4   \n",
       "145  https://www.yelp.com/biz/7-eleven-elkridge-3?a...             1   \n",
       "146  https://www.yelp.com/biz/7-eleven-towson?adjus...             6   \n",
       "147  https://www.yelp.com/biz/7-eleven-hanover?adju...             3   \n",
       "\n",
       "                                            categories  rating  \\\n",
       "143  [{'alias': 'convenience', 'title': 'Convenienc...     2.6   \n",
       "144  [{'alias': 'convenience', 'title': 'Convenienc...     2.8   \n",
       "145  [{'alias': 'convenience', 'title': 'Convenienc...     1.0   \n",
       "146  [{'alias': 'convenience', 'title': 'Convenienc...     2.0   \n",
       "147  [{'alias': 'convenience', 'title': 'Convenienc...     3.0   \n",
       "\n",
       "                                           coordinates        transactions  \\\n",
       "143  {'latitude': 39.2938614405871, 'longitude': -7...  [delivery, pickup]   \n",
       "144  {'latitude': 39.2731536, 'longitude': -76.7526...  [delivery, pickup]   \n",
       "145  {'latitude': 39.188869663407, 'longitude': -76...  [delivery, pickup]   \n",
       "146  {'latitude': 39.3992867255242, 'longitude': -7...          [delivery]   \n",
       "147  {'latitude': 39.1588731637158, 'longitude': -7...  [delivery, pickup]   \n",
       "\n",
       "    price                                           location         phone  \\\n",
       "143     $  {'address1': '1114 Ingleside Av', 'address2': ...  +14107475399   \n",
       "144     $  {'address1': '1611 Edmondson Ave', 'address2':...  +14107884441   \n",
       "145     $  {'address1': '6590 Old Waterloo Rd', 'address2...  +14107995169   \n",
       "146     $  {'address1': '321 York Rd', 'address2': '', 'a...  +14108232461   \n",
       "147     $  {'address1': '1401 Dorsey Rd', 'address2': '',...  +14108595730   \n",
       "\n",
       "      display_phone      distance  \n",
       "143  (410) 747-5399  10581.370033  \n",
       "144  (410) 788-4441  12996.726394  \n",
       "145  (410) 799-5169  20717.875905  \n",
       "146  (410) 823-2461  10021.418156  \n",
       "147  (410) 859-5730  19025.149138  "
      ]
     },
     "metadata": {},
     "output_type": "display_data"
    }
   ],
   "source": [
    "# load final results\n",
    "final_df = pd.read_json(JSON_FILE)\n",
    "display(final_df.head(), final_df.tail())"
   ]
  },
  {
   "cell_type": "code",
   "execution_count": 28,
   "id": "b94e2646",
   "metadata": {},
   "outputs": [
    {
     "data": {
      "text/plain": [
       "0"
      ]
     },
     "execution_count": 28,
     "metadata": {},
     "output_type": "execute_result"
    }
   ],
   "source": [
    "# check for duplicate ID's \n",
    "final_df.duplicated(subset='id').sum()"
   ]
  },
  {
   "cell_type": "code",
   "execution_count": 29,
   "id": "e9998869",
   "metadata": {},
   "outputs": [],
   "source": [
    "# save the final results to csv\n",
    "final_df.to_csv('Data/final_results_MD_ramen.csv', index=False)"
   ]
  }
 ],
 "metadata": {
  "kernelspec": {
   "display_name": "Python (dojo-env)",
   "language": "python",
   "name": "dojo-env"
  },
  "language_info": {
   "codemirror_mode": {
    "name": "ipython",
    "version": 3
   },
   "file_extension": ".py",
   "mimetype": "text/x-python",
   "name": "python",
   "nbconvert_exporter": "python",
   "pygments_lexer": "ipython3",
   "version": "3.11.5"
  }
 },
 "nbformat": 4,
 "nbformat_minor": 5
}
