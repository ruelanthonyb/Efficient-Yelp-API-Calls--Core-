{
 "cells": [
  {
   "cell_type": "markdown",
   "id": "5cef9a41",
   "metadata": {},
   "source": [
    "## Efficient Yelp API Calls (Core)\n",
    "For this assignment, you will be working with the Yelp API.\n",
    "\n",
    "As before, you will use the Yelp API to search your favorite city for a cuisine type of your choice.\n",
    "\n",
    "Extract all of the results from your search and compile them into one dataframe using a for loop as shown in the lesson \"Code for Efficient API Extraction\"\n",
    "\n",
    "Save your notebook, commit the change to your repository and submit the repository URL for this assignment."
   ]
  },
  {
   "cell_type": "code",
   "execution_count": null,
   "id": "7de376b1",
   "metadata": {},
   "outputs": [],
   "source": [
    "from yelpapi import YelpAPI\n",
    "import json, os\n",
    "import pandas as pd"
   ]
  },
  {
   "cell_type": "markdown",
   "id": "f2ee6dab",
   "metadata": {},
   "source": [
    "### Load Credentials and Create Yelp API Object"
   ]
  },
  {
   "cell_type": "code",
   "execution_count": null,
   "id": "00a39b75",
   "metadata": {},
   "outputs": [],
   "source": [
    "# Load API Credentials\n",
    "with open(r\"C:\\Users\\bandi\\.secret\\yelp_api.json\") as f:\n",
    "    login = json.load(f)\n",
    "login.keys()"
   ]
  },
  {
   "cell_type": "code",
   "execution_count": null,
   "id": "0c9536c1",
   "metadata": {},
   "outputs": [],
   "source": [
    "# Instantiate YelpAPI Variable\n",
    "yelp_api = YelpAPI(login['api-key'], timeout_s = 5.0)\n",
    "yelp_api"
   ]
  },
  {
   "cell_type": "markdown",
   "id": "21b8c86c",
   "metadata": {},
   "source": [
    "### Define Search Terms and File Paths"
   ]
  },
  {
   "cell_type": "code",
   "execution_count": null,
   "id": "e4450fae",
   "metadata": {},
   "outputs": [],
   "source": [
    "results = yelp_api.search_query(location='New York, NY',\n",
    "                                       term='Pizza')\n",
    "print(type(results))\n",
    "results.keys()"
   ]
  },
  {
   "cell_type": "code",
   "execution_count": null,
   "id": "957b3a62",
   "metadata": {},
   "outputs": [],
   "source": [
    "pizza = pd.DataFrame(results['businesses'])\n",
    "pizza.head(2) "
   ]
  },
  {
   "cell_type": "code",
   "execution_count": null,
   "id": "e7ccacc9",
   "metadata": {},
   "outputs": [],
   "source": [
    "## total number of matching businesses\n",
    "results['total']"
   ]
  },
  {
   "cell_type": "code",
   "execution_count": null,
   "id": "d1991d9b",
   "metadata": {},
   "outputs": [],
   "source": [
    "## how many businesses in our results\n",
    "len(results['businesses'])"
   ]
  },
  {
   "cell_type": "code",
   "execution_count": null,
   "id": "2c9ec574",
   "metadata": {},
   "outputs": [],
   "source": [
    "# add offset to our original api call\n",
    "results = yelp_api.search_query(location='New York, NY',\n",
    "                                       term='Pizza',\n",
    "                                       offset = 20)"
   ]
  },
  {
   "cell_type": "code",
   "execution_count": null,
   "id": "a89e8e70",
   "metadata": {},
   "outputs": [],
   "source": [
    "pizza20 = pd.DataFrame(results['businesses'])\n",
    "pizza20.head(2)"
   ]
  },
  {
   "cell_type": "code",
   "execution_count": null,
   "id": "f02b2499",
   "metadata": {},
   "outputs": [],
   "source": [
    "## concatenate the previous results and new results. \n",
    "results_pizza = pd.concat([pizza, pizza20],\n",
    "                      ignore_index=True)\n",
    "display(results_pizza.head(3), results_pizza.tail(3))"
   ]
  },
  {
   "cell_type": "code",
   "execution_count": null,
   "id": "a74c9317",
   "metadata": {},
   "outputs": [],
   "source": [
    "# Specify directory and filename\n",
    "directory = 'Data'\n",
    "\n",
    "# Ensure that the 'Data' directory exists\n",
    "os.makedirs(directory, exist_ok = True)"
   ]
  },
  {
   "cell_type": "code",
   "execution_count": null,
   "id": "bd4bf438",
   "metadata": {},
   "outputs": [],
   "source": [
    "# save the results to records-style json file\n",
    "results_pizza.to_json(\"Data/yelp-search-new-york-pizza.json\", orient='records')"
   ]
  }
 ],
 "metadata": {
  "kernelspec": {
   "display_name": "Python (dojo-env)",
   "language": "python",
   "name": "dojo-env"
  },
  "language_info": {
   "codemirror_mode": {
    "name": "ipython",
    "version": 3
   },
   "file_extension": ".py",
   "mimetype": "text/x-python",
   "name": "python",
   "nbconvert_exporter": "python",
   "pygments_lexer": "ipython3",
   "version": "3.11.5"
  }
 },
 "nbformat": 4,
 "nbformat_minor": 5
}
